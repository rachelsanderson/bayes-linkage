{
 "cells": [
  {
   "cell_type": "markdown",
   "metadata": {},
   "source": [
    "## simple_gibbs.py\n",
    "\n",
    "\n",
    "The following is code for a Gibbs sampler under the strongest assumptions, detailed below."
   ]
  },
  {
   "cell_type": "markdown",
   "metadata": {},
   "source": [
    "## Mixture model approach to record linkage\n",
    "\n",
    "The probability of a comparison vector $\\gamma$ is seen arising from a mixture distribution:\n",
    "\n",
    "$$ Pr(\\gamma) = Pr(\\gamma | M ) p_M + Pr(\\gamma | U) p_U $$ \n",
    "\n",
    "where $Pr(\\gamma | M)$ and $Pr(\\gamma | U)$ are the probabilities of observing the pattern $\\gamma$ among matches $M$ and non-matches $U$, and $p_M$ and $p_U = 1 - p_M$ are the proportion of matched and unmatched pairs in the population.  \n",
    "\n",
    "Assuming conditional independence across comparison fields  reduces the number of parameters within each mixture class from $2^K -1 $ parameters to $K$: \n",
    "\n",
    "$$ Pr(\\gamma | C) = \\prod_{k=1}^K Pr(\\gamma_k | C)^{\\gamma_k}(1-Pr(\\gamma_k| C)^{1-\\gamma_k} $$ \n",
    "for $C\\in\\{M,U\\}$. "
   ]
  },
  {
   "cell_type": "markdown",
   "metadata": {},
   "source": [
    "## Gibbs Sampling\n",
    "### Basic setup (within blocks, binary comparisons)\n",
    "\n",
    "Following Larsen (2012), I estimate the parameters of the mixture model approach to record linkage via Gibbs Sampling as follows:\n",
    "\n",
    "1. Using the current values of $(p_M^{(k)}, p_{M\\ell}^{(k)}, p_{U\\ell}^{(k)})$, draw the components of $I^{(k+1)}$ independently from $$Pr(\\ I(a,b)^{(k+1)}=1\\ |\\ \\gamma(a,b)) = Pr(\\ M\\  |\\  \\gamma(a,b)) = \\frac{p_M^{(k)}Pr(\\ \\gamma(a,b)\\ |\\ M)}{Pr(\\gamma(a,b))} $$ where $$Pr(\\gamma(a,b)\\ |\\ M) = \\prod_{\\ell}  (p_{M\\ell}^{(k)})^{\\gamma_{\\ell}(a,b)}(1-p_{M\\ell}^{(k)})^{1-\\gamma_{\\ell}(a,b)}$$ and the denominator is calculated according to formula above. \n",
    "<p>\n",
    "\n",
    "2. Draw a value of $p_M^{(k+1)}$ from $$p_M^{(k+1)}\\ |\\ I^{(k+1)} \\sim Beta\\left(\\alpha_M + \\sum_{(a,b)} I(a,b)^{(k+1)}, \\ \\beta_M + \\sum_{(a,b)}(1-I(a,b)^{(k+1)})\\right) $$ and set $p_U^{(k+1)} = 1-p_M^{(k+1)}$\n",
    "<p>\n",
    "\n",
    "3. For $\\ell=1,\\dots, L$, draw values of $p_{M\\ell}$ independently from $$ p_{M\\ell}\\ | \\ M, I^{(k+1)} \\sim Beta\\left(\\alpha_{M\\ell} + \\sum_{(a,b)} I(a,b)^{(k+1)}\\gamma_{\\ell}(a,b),\\ \\beta_{M\\ell} + \\sum_{(a,b)} I(a,b)^{(k+1)}\\left(1-\\gamma_{\\ell}(a,b)\\right)\\right)$$\n",
    "<p>\n",
    "\n",
    "4. For $\\ell=1,\\dots, L$, draw values of $p_{U\\ell}$ independently from $$ p_{U\\ell}\\ | \\ U, I^{(k+1)} \\sim Beta\\left(\\alpha_{U\\ell} + \\sum_{(a,b)}(1- I(a,b)^{(k+1)})\\gamma_{\\ell}(a,b),\\ \\beta_{U\\ell} + \\sum_{(a,b)} (1-I(a,b)^{(k+1)})(1-\\gamma_{\\ell}(a,b))\\right)$$\n",
    "\n",
    "Once the algorithm has converged, one can calculate the posterior probability of a match as the proportion of times that a record pair $(a,b)$ has $I(a,b)  = 1$, i.e. $\\frac{1}{K}\\sum_k I(a,b)^{(k)}$.  Record pairs exceeding a cutoff are then designated matches, or a linear program is used to force one-to-one matching.   \n"
   ]
  },
  {
   "cell_type": "markdown",
   "metadata": {},
   "source": [
    "### Python Setup "
   ]
  },
  {
   "cell_type": "code",
   "execution_count": 4,
   "metadata": {
    "collapsed": true
   },
   "outputs": [],
   "source": [
    "import numpy as np\n",
    "from scipy.stats import bernoulli\n",
    "\n",
    "%matplotlib inline\n",
    "from seaborn import plt\n",
    "import pandas as pd \n",
    "import itertools\n",
    "\n",
    "plt.rcParams['figure.figsize'] = (10, 5)"
   ]
  },
  {
   "cell_type": "markdown",
   "metadata": {},
   "source": [
    "### 1. Updates for I(a,b)"
   ]
  },
  {
   "cell_type": "code",
   "execution_count": 5,
   "metadata": {
    "collapsed": true
   },
   "outputs": [],
   "source": [
    "def column(matrix, i):\n",
    "    return [row[i] for row in matrix]\n",
    "\n",
    "def calc_pGammaM(gammaInd,pML):\n",
    "    assert len(gammaInd) == len(pML), 'dim do not match'\n",
    "    return np.prod([(pML[l]**gammaInd[l])*(1-pML[l])**(1-gammaInd[l]) for l in range(len(pML))])\n",
    "\n",
    "def calc_pGammaU(gammaInd,pUL):\n",
    "    assert len(gammaInd) == len(pUL), 'dim do not match'\n",
    "    return np.prod([(pUL[l]**gamma[l])*(1-pUL[l])**(1-gamma[l]) for l in range(len(pML))])\n",
    "\n",
    "def sample_I(gamma, pM, pML, pUL):\n",
    "    nPairs = gamma.shape[0]  #number of comparisons\n",
    "    L = len(pML) # num categories\n",
    "    \n",
    "    prGamma_M = np.array([calc_pGammaM(pair, pML) for pair in gamma])\n",
    "    prGamma_U = np.array([calc_pGammaU(pair, pML) for pair in gamma])\n",
    "    \n",
    "    num = pM * prGamma_M\n",
    "    denom = num + (1-pM)*prGamma_U\n",
    "    ps = num/denom \n",
    "\n",
    "    return np.array([np.random.binomial(1,p=ps[i]) for i in range(len(ps))])"
   ]
  },
  {
   "cell_type": "markdown",
   "metadata": {},
   "source": [
    "### 2. Updates for $p_M$"
   ]
  },
  {
   "cell_type": "code",
   "execution_count": 6,
   "metadata": {
    "collapsed": true
   },
   "outputs": [],
   "source": [
    "def sample_pM(I, aM, bM):\n",
    "    nM = np.sum(I)\n",
    "    aNew = aM + nM\n",
    "    bNew = bM + len(I) - nM\n",
    "    return np.random.beta(aNew,bNew)"
   ]
  },
  {
   "cell_type": "markdown",
   "metadata": {},
   "source": [
    "### 3-4. Updates for $p_{M\\ell}, p_{U\\ell}$"
   ]
  },
  {
   "cell_type": "code",
   "execution_count": 7,
   "metadata": {
    "collapsed": true
   },
   "outputs": [],
   "source": [
    "def sample_pML(gammaL, I, aML, bML):\n",
    "    N = len(gammaL)\n",
    "    assert N == len(I), 'dimensions don\\'t match'\n",
    "    ones = np.array([1] * N)\n",
    "    aML_new = aML + np.sum(I * gammaL)\n",
    "    bML_new = bML + np.sum(I * (ones-gammaL))\n",
    "    return np.random.beta(aML_new,bML_new)\n",
    "\n",
    "def sample_pUL(gammaL, I, aUL, bUL):\n",
    "    N = len(gammaL)\n",
    "    assert N == len(I), 'dimensions don\\'t match'\n",
    "    ones = np.array([1] * N)\n",
    "    aUL_new = aUL + np.sum((ones-I) * gammaL)\n",
    "    bUL_new = bUL + np.sum((ones-I) * (ones-gammaL))\n",
    "    return np.random.beta(aUL_new,bUL_new)"
   ]
  },
  {
   "cell_type": "markdown",
   "metadata": {},
   "source": [
    "### Some synthetic data\n",
    "\n",
    "The [Record Linkage](https://recordlinkage.readthedocs.io/en/latest/about.html) package in Python provides functions for pre-processing data.  It also comes pre-loaded with datasets from [Febrl](https://sourceforge.net/projects/febrl/) which I use to test my Gibbs sampler.\n",
    "\n",
    "The code below generates random binary comparison vectors given m, u, probabilities see documentation\n",
    "\n",
    "References:\n",
    "Christen, P. (2008). Febrl - A Freely Available Record Linkage System with a Graphical User Interface."
   ]
  },
  {
   "cell_type": "code",
   "execution_count": 98,
   "metadata": {},
   "outputs": [],
   "source": [
    "from recordlinkage import datasets\n",
    "\n",
    "N = 100\n",
    "pML = [1, 1, 1]\n",
    "pUL = [.1, .1, .1]\n",
    "pM = .3\n",
    "L = len(pML)\n",
    "\n",
    "gamma = np.array(datasets.binary_vectors(N,int(pM*N), m=pML, u = pUL, random_state=113))"
   ]
  },
  {
   "cell_type": "markdown",
   "metadata": {},
   "source": [
    "### Writing our Gibbs sampler"
   ]
  },
  {
   "cell_type": "code",
   "execution_count": 112,
   "metadata": {
    "collapsed": true
   },
   "outputs": [],
   "source": [
    "## specify initial values\n",
    "init = {\"pM\": 0.3,\n",
    "        \"pML\": [0.2]*L,\n",
    "        \"pUL\": [0.8]*L}\n",
    "\n",
    "## specify hyper parameters \n",
    "hypers = {\"aM\": 1,\n",
    "          \"bM\": 1,\n",
    "          \"aML\": [10]*L,\n",
    "          \"bML\": [1]*L,\n",
    "          \"aUL\": [1]*L,\n",
    "          \"bUL\": [10]*L}"
   ]
  },
  {
   "cell_type": "code",
   "execution_count": 113,
   "metadata": {},
   "outputs": [
    {
     "data": {
      "text/plain": [
       "array([[0, 1, 0],\n",
       "       [0, 0, 1],\n",
       "       [0, 0, 0],\n",
       "       [1, 1, 1],\n",
       "       [1, 0, 0],\n",
       "       [0, 0, 0],\n",
       "       [0, 0, 0],\n",
       "       [0, 0, 0],\n",
       "       [1, 1, 1],\n",
       "       [0, 0, 0],\n",
       "       [0, 0, 0],\n",
       "       [1, 1, 1],\n",
       "       [1, 0, 0],\n",
       "       [0, 0, 0],\n",
       "       [0, 0, 0],\n",
       "       [0, 0, 0],\n",
       "       [0, 1, 0],\n",
       "       [0, 0, 0],\n",
       "       [1, 1, 1],\n",
       "       [0, 0, 0],\n",
       "       [1, 1, 1],\n",
       "       [1, 1, 1],\n",
       "       [0, 0, 0],\n",
       "       [0, 0, 0],\n",
       "       [0, 0, 0],\n",
       "       [0, 0, 0],\n",
       "       [1, 1, 1],\n",
       "       [0, 0, 0],\n",
       "       [0, 0, 0],\n",
       "       [1, 1, 1],\n",
       "       [0, 0, 0],\n",
       "       [1, 1, 1],\n",
       "       [1, 1, 1],\n",
       "       [0, 0, 0],\n",
       "       [0, 0, 0],\n",
       "       [0, 0, 0],\n",
       "       [1, 1, 1],\n",
       "       [1, 1, 1],\n",
       "       [0, 0, 0],\n",
       "       [0, 0, 0],\n",
       "       [0, 0, 0],\n",
       "       [0, 0, 0],\n",
       "       [0, 0, 1],\n",
       "       [0, 0, 0],\n",
       "       [0, 1, 0],\n",
       "       [0, 0, 0],\n",
       "       [0, 0, 1],\n",
       "       [0, 0, 0],\n",
       "       [1, 1, 1],\n",
       "       [1, 1, 1],\n",
       "       [1, 1, 1],\n",
       "       [0, 0, 0],\n",
       "       [0, 0, 1],\n",
       "       [1, 1, 1],\n",
       "       [1, 1, 1],\n",
       "       [0, 0, 0],\n",
       "       [0, 0, 0],\n",
       "       [0, 1, 0],\n",
       "       [0, 0, 0],\n",
       "       [0, 0, 1],\n",
       "       [0, 0, 0],\n",
       "       [0, 0, 0],\n",
       "       [0, 0, 0],\n",
       "       [0, 0, 0],\n",
       "       [0, 0, 0],\n",
       "       [1, 1, 1],\n",
       "       [1, 0, 0],\n",
       "       [0, 0, 0],\n",
       "       [1, 1, 1],\n",
       "       [0, 0, 1],\n",
       "       [1, 1, 1],\n",
       "       [1, 1, 1],\n",
       "       [0, 0, 0],\n",
       "       [0, 1, 0],\n",
       "       [0, 0, 0],\n",
       "       [0, 0, 0],\n",
       "       [0, 0, 0],\n",
       "       [0, 0, 0],\n",
       "       [0, 0, 0],\n",
       "       [0, 1, 0],\n",
       "       [1, 1, 1],\n",
       "       [0, 0, 0],\n",
       "       [0, 0, 0],\n",
       "       [1, 1, 1],\n",
       "       [0, 0, 0],\n",
       "       [1, 1, 1],\n",
       "       [1, 1, 1],\n",
       "       [1, 1, 1],\n",
       "       [0, 0, 0],\n",
       "       [1, 1, 0],\n",
       "       [1, 1, 1],\n",
       "       [0, 0, 0],\n",
       "       [0, 1, 0],\n",
       "       [1, 1, 1],\n",
       "       [1, 1, 1],\n",
       "       [1, 1, 1],\n",
       "       [0, 0, 0],\n",
       "       [0, 0, 0],\n",
       "       [0, 0, 0],\n",
       "       [0, 1, 0]], dtype=int8)"
      ]
     },
     "execution_count": 113,
     "metadata": {},
     "output_type": "execute_result"
    }
   ],
   "source": [
    "gamma"
   ]
  },
  {
   "cell_type": "code",
   "execution_count": 121,
   "metadata": {
    "collapsed": true
   },
   "outputs": [],
   "source": [
    "def gibbs(gamma, iters, init, hypers):\n",
    "\n",
    "    assert gamma.shape[1] == len(init[\"pML\"]), 'not enough params' # checks sufficiently parameterized\n",
    "    assert len(init[\"pML\"]) == len(init[\"pUL\"]), 'dimensions of pML and pUL do not match'\n",
    "    \n",
    "    pM = init[\"pM\"]\n",
    "    pML = init[\"pML\"]\n",
    "    pUL = init[\"pUL\"]\n",
    "    nPar = 1 + len(pML) + len(pUL) \n",
    "    \n",
    "    L = len(pML)\n",
    "    numPair = gamma.shape[0]\n",
    "    \n",
    "    trace = np.zeros((iters,nPar)) # trace to store values of pM, pML, pUL\n",
    "    I_sum = np.zeros(numPair)      # storage for matches \n",
    "    \n",
    "    for it in range(iters):\n",
    "        I = sample_I(gamma, pM, pML, pUL)\n",
    "        \n",
    "        pM = sample_pM(I, hypers['aM'], hypers['bM'])\n",
    "        # Need some way to correct when it goes on a spree\n",
    "        if pM > 0.99:\n",
    "            pM = 0.05\n",
    "        # delete above, but need something like it     \n",
    "        pML = [sample_pML(column(gamma,l), I, hypers['aML'][l], hypers['bML'][l]) for l in range(L)]\n",
    "        pUL = [sample_pUL(column(gamma,l), I, hypers['aUL'][l], hypers['bUL'][l]) for l in range(L)]\n",
    "        \n",
    "        # update mcmc trace\n",
    "        I_sum += I\n",
    "        trace[it,:] = np.append(np.append(pM, pML),pUL)\n",
    "    \n",
    "    trace = pd.DataFrame(trace)\n",
    "    \n",
    "    pML_names = ['pML_' + str(i) for i in range(1,L+1)]\n",
    "    pUL_names = ['pUL_' + str(i) for i in range(1,L+1)]\n",
    "   \n",
    "    trace.columns= ['pM'] + pML_names + pUL_names\n",
    "        \n",
    "    return trace, I_sum\n",
    "        "
   ]
  },
  {
   "cell_type": "code",
   "execution_count": 122,
   "metadata": {
    "scrolled": true
   },
   "outputs": [],
   "source": [
    "trace, i = gibbs(gamma,1000, init, hypers)"
   ]
  },
  {
   "cell_type": "code",
   "execution_count": 123,
   "metadata": {},
   "outputs": [
    {
     "data": {
      "image/png": "[encoded data removed]",
      "text/plain": [
       "<matplotlib.figure.Figure at 0x127206be0>"
      ]
     },
     "metadata": {},
     "output_type": "display_data"
    }
   ],
   "source": [
    "trace_burnt = trace\n",
    "hist_plot = trace_burnt.hist(bins=30,layout=(2,4))"
   ]
  },
  {
   "cell_type": "code",
   "execution_count": null,
   "metadata": {
    "collapsed": true
   },
   "outputs": [],
   "source": [
    "my thoughts -- only way to update posterior is via I, which is too restrictive.  Will take loooong time to converge.  \n",
    "conditional independence assumption too strict.  would be nice to update the betas together"
   ]
  }
 ],
 "metadata": {
  "kernelspec": {
   "display_name": "Python 3",
   "language": "python",
   "name": "python3"
  },
  "language_info": {
   "codemirror_mode": {
    "name": "ipython",
    "version": 3
   },
   "file_extension": ".py",
   "mimetype": "text/x-python",
   "name": "python",
   "nbconvert_exporter": "python",
   "pygments_lexer": "ipython3",
   "version": "3.6.1"
  }
 },
 "nbformat": 4,
 "nbformat_minor": 2
}
