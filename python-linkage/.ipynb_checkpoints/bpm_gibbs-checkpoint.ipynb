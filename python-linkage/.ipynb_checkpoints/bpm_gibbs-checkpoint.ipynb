{
 "cells": [
  {
   "cell_type": "markdown",
   "metadata": {},
   "source": [
    "## bpm_gibbs.py\n",
    "\n",
    "\n",
    "The following is code for a Gibbs sampler for MCMC estimation of bipartite matching approach to record linkage."
   ]
  },
  {
   "cell_type": "markdown",
   "metadata": {},
   "source": [
    "## Bipartite matching approach to record linkage\n",
    "\n",
    "Suppose that files $X_1$ and $X_2$ contain $n_1$ and $n_2$ records, respectively, and\n",
    "without loss of generality that $n1 \\geq n_2$. Denote also the number of entities represented in\n",
    "both files as $n_{12}$, so that $n_2 \\geq n_{12} \\geq 0$.\n",
    "\n",
    "The set of records coming from the two files can be represented as a *bipartite matching* and the parameter of interest is a matching matrix $\\Delta$ of size $n_1\\times n_2$ whose $(i,j)$th entry is defined as \n",
    "\n",
    "$$ \\Delta_{ij} = \\begin{cases} 1, & \\text{ if records $i\\in X_1$ and $j\\in X_2$ refer to the same entity;} \\\\ 0, & \\text{otherwise} \\end{cases} $$\n",
    "\n",
    "Sadinle (2017) uses a more compact representation called a *matching labeling*, which is useful when $n_1\\times n_2$ is large.  Formally, the matching labeling is $Z = (Z_1, Z_2, \\dots, Z_{n2})$, such that\n",
    "\n",
    "$$ Z_j = \\begin{cases} i, & \\text{if records $i\\in X_1$ and $j\\in X_2$ refer to the same entity;} \\\\ n_1+j, & \\text{if records $j\\in X_2$ does not have a match in $X_1$ } \\end{cases} $$\n",
    "\n",
    "#### Advantages"
   ]
  },
  {
   "cell_type": "markdown",
   "metadata": {},
   "source": [
    "#### Prior for $m$ and $u$ probabilities\n",
    "\n",
    "It is expected that the probability of agreeing on an individual field of comparison is higher for matches than for nonmatches:\n",
    "\n",
    "$$Pr(\\gamma_{\\ell}(a,b) = 1 |\\ (a,b) \\in M) > Pr(\\gamma_{\\ell}(a,b) = 1 |\\ (a,b) \\in U) $$ \n",
    "\n",
    "Use a dirichlet instead of independent betas. \n",
    "\n",
    "#### Beta Prior for Bipartite Matchings $Z$\n",
    "\n",
    "This comes from Larsen (2005) and Sadinle (2017)/\n",
    "\n",
    "Just as in the mixture model approach, the prior probability that $j \\in X_2$ is:\n",
    "\n",
    "$$ I(Z_j \\leq n_1)  \\overset{i.i.d}{\\sim} \\text{Bernoulli}(p_M)$$\n",
    "\n",
    "where $p_M$ represents the proporiton of matches expected a priori as a fraction of the smallest file $X_2$.  Same as before, the hyperprior for $p_M$ is:\n",
    "\n",
    "$$ p_M \\sim \\text{Beta}(\\alpha_{M}, \\beta_{M})$$ \n",
    "\n",
    "The prior on $p_M$ implies $n_{12}(Z) = \\sum_{j=1}^{n_2} I(Z_j \\leq n_1)$, the number of matches according to matching labeling $Z$ is distributed as:\n",
    "\n",
    "$$n_{12}(Z) \\sim \\text{Beta-Binomial}(n_2, \\alpha_{M}, \\beta_{M}) $$ \n",
    "\n",
    "after marginalizing over $p_M$.\n",
    "\n",
    "Conditioning on $\\{I(Z_j \\leq n_1)\\}_{j=1}^{n_2}$, all possible bipartite matchings are taken to be equally likely, so $$Pr(Z\\ |\\ n_{12}) = \\left(\\frac{n_1!}{(n_1-n_{12})!}\\right)^{-1}$$\n",
    "\n",
    "These conditions imply the joint prior over $Z$:\n",
    "\n",
    "$$Pr(Z\\ |\\ \\alpha_M, \\beta_M) = \\frac{(n_1-n_{12}(Z))!}{n_1!}\\frac{\\text{Beta}(n_{12}(Z) + \\alpha_M,\\ n_2-n_{12}(Z) + \\beta_M)}{\\text{Beta}(\\alpha_M, \\beta_M)}$$\n",
    "\n",
    "\n"
   ]
  },
  {
   "cell_type": "markdown",
   "metadata": {},
   "source": [
    "\n",
    "Finally \n",
    "\n",
    "$$\\Gamma_{ij} | Z_j = i \\overset{i.i.d}{\\sim} M(m)$$\n",
    "\n",
    "$$\\Gamma_{ij}\\ |\\ Z_j \\neq i \\overset{i.i.d}{\\sim} U(u) $$\n",
    "\n",
    "$$ m_f \\sim Dirichlet(\\alpha_{\\ell(0)}, \\dots, \\alpha_{\\ell L}) $$"
   ]
  },
  {
   "cell_type": "markdown",
   "metadata": {
    "collapsed": true
   },
   "source": [
    "### Gibbs Sampler\n",
    "\n",
    "Initialize match/nonmatch configuration $Z$. Tricks to do this.\n",
    "\n",
    "1. Draw $p_M$ from $$ p_M\\ |\\ Z \\sim \\text{Beta}(\\alpha_M + n_{M}(Z),\\ \\beta_M + n_{2} - n_{M}(Z)) $$ Note this is same as before. \n",
    "\n",
    "2. Draw $p_{M\\ell}$ and $p_{U\\ell}$ from their conditional distributions (same as before).\n",
    "\n",
    "3. Use Metropolis-Hastings algorithm to draw values of $Z$ and $n_{12}(Z)$ from their full conditional distributions.  \n",
    "\n",
    "The only difference is step 3! $I$ is no longer a bunch of Bernoullis, and assignment of $I(a,b)$ will now affect $I(a',b')$ which is desirable. "
   ]
  },
  {
   "cell_type": "markdown",
   "metadata": {},
   "source": [
    "### Python setup"
   ]
  },
  {
   "cell_type": "code",
   "execution_count": 844,
   "metadata": {
    "collapsed": true
   },
   "outputs": [],
   "source": [
    "import numpy as np\n",
    "import scipy\n",
    "\n",
    "%matplotlib inline\n",
    "from seaborn import plt\n",
    "import pandas as pd \n",
    "import itertools\n",
    "\n",
    "plt.rcParams['figure.figsize'] = (10, 5)"
   ]
  },
  {
   "cell_type": "markdown",
   "metadata": {},
   "source": [
    "### 1. Updates for $p_M$\n",
    "\n"
   ]
  },
  {
   "cell_type": "code",
   "execution_count": 845,
   "metadata": {
    "collapsed": true
   },
   "outputs": [],
   "source": [
    "def sample_pM(aM, bM):\n",
    "    aNew = aM + nM\n",
    "    bNew = bM + n2 - nM\n",
    "    return np.random.beta(aNew,bNew)"
   ]
  },
  {
   "cell_type": "markdown",
   "metadata": {},
   "source": [
    "### 2. Updates for $p_{M\\ell},\\ p_{U\\ell}$"
   ]
  },
  {
   "cell_type": "code",
   "execution_count": 846,
   "metadata": {
    "collapsed": true
   },
   "outputs": [],
   "source": [
    "def sample_pML(aML, bML):\n",
    "    assert n2 == len(Z), 'Z got messed up'\n",
    "    ones = np.array([1] * L)\n",
    "    aSums = np.zeros(L)\n",
    "    bSums = np.zeros(L)\n",
    "    for x2 in matchedX2:\n",
    "        gammaM = Gamma.index[(Gamma['i']==x2)&(Gamma['j']==Z[x2])].tolist()\n",
    "        aSums += gammaM\n",
    "        bSums += (ones-gammaM)\n",
    "    aNew = aML + aSums\n",
    "    bNew = bML + bSums\n",
    "    return np.random.beta(aNew, bNew)\n",
    "\n",
    "def sample_pUL(aUL, bUL):\n",
    "    assert n2 == len(Z), 'Z got messed up'\n",
    "    ones = np.array([1] * L)\n",
    "    aSums = np.zeros(L)\n",
    "    bSums = np.zeros(L)\n",
    "    for x2 in range(n2):\n",
    "        nonMatchInd = Gamma.index[(Gamma['i']==x2)&(Gamma['j']!=Z[x2])].tolist()\n",
    "        for y in nonMatchInd:\n",
    "            aSums += Gamma.loc[y]['gamma']\n",
    "            bSums += (ones-Gamma.loc[y]['gamma'])\n",
    "    aNew = aUL + aSums\n",
    "    bNew = bUL + bSums\n",
    "    return np.random.beta(aNew, bNew)"
   ]
  },
  {
   "cell_type": "markdown",
   "metadata": {},
   "source": [
    "### 3. Updates for $Z, n_M$ \n",
    "\n",
    "These rely on many helper functions but below is a function that chooses the move type at random."
   ]
  },
  {
   "cell_type": "markdown",
   "metadata": {},
   "source": [
    "### Synthetic Data\n",
    "\n"
   ]
  },
  {
   "cell_type": "markdown",
   "metadata": {},
   "source": [
    "making some data"
   ]
  },
  {
   "cell_type": "markdown",
   "metadata": {},
   "source": [
    "### Writing the Gibbs sampler"
   ]
  },
  {
   "cell_type": "code",
   "execution_count": 847,
   "metadata": {
    "collapsed": true
   },
   "outputs": [],
   "source": [
    "## specify initial values\n",
    "init = {\"pM\": 0.5,\n",
    "        \"pML\": [0.5]*L,\n",
    "        \"pUL\": [0.5]*L}\n",
    "\n",
    "## specify hyper parameters \n",
    "hypers = {\"aM\": 1,\n",
    "          \"bM\": 1,\n",
    "          \"aML\": [1]*L,\n",
    "          \"bML\": [1]*L,\n",
    "          \"aUL\": [1]*L,\n",
    "          \"bUL\": [1]*L}\n",
    "\n",
    "def check_valid_prior(init):\n",
    "    assert (init[\"pM\"] < 1) and (init['pM'] > 0), 'pM must be between 0,1'\n",
    "    assert (0 not in init['pML']) and (1 not in init['pML']), 'elements of pML must be b/w 0,1'\n",
    "    assert (0 not in init['pUL']) and (1 not in init['pUL']), 'elements of pML must be b/w 0,1'\n",
    "    return "
   ]
  },
  {
   "cell_type": "code",
   "execution_count": 848,
   "metadata": {
    "collapsed": true
   },
   "outputs": [],
   "source": [
    "class State(object):\n",
    "    matchedX2 = []\n",
    "    unmatchedX2 = []\n",
    "    matchedX1 = []\n",
    "    unmatchedX1 = []\n",
    "    Z = []\n",
    "    nM = 0\n",
    "    llh = 1\n",
    "    \n",
    "    def __init__(self,Z):\n",
    "        global State\n",
    "        assert len(Z) == n2, 'invalid bpm'\n",
    "        assert len(Z) == len(np.unique(Z)), 'invalid bpm'\n",
    "        self.matchedX2 = [i for i in range(n2) if Z[i] < n1]\n",
    "        self.matchedX1 = [i for i in Z if i < n1]\n",
    "        self.nM = len(matchedX2)\n",
    "        self.unmatchedX2 = np.delete([i for i in range(n2)], matchedX2)\n",
    "        self.unmatchedX1 = np.delete([i for i in range(n1)], matchedX1)\n",
    "        self.Z = Z\n",
    "        self.llh = calc_pNM_Z(self)\n",
    "\n",
    "def make_state(Z):\n",
    "    state = State(Z)\n",
    "    return state\n"
   ]
  },
  {
   "cell_type": "code",
   "execution_count": 849,
   "metadata": {
    "collapsed": true
   },
   "outputs": [],
   "source": [
    "#Functions for evaluating llh of Z\n",
    "\n",
    "def calc_pGammaM(gammaInd,pML):\n",
    "    assert len(gammaInd) == len(pML), 'dim do not match'\n",
    "    return np.prod([(pML[l]**gammaInd[l])*(1-pML[l])**(1-gammaInd[l]) for l in range(len(pML))])\n",
    "\n",
    "def calc_pGammaU(gammaInd,pUL):\n",
    "    assert len(gammaInd) == len(pUL), 'dim do not match'\n",
    "    return np.prod([(pUL[l]**gammaInd[l])*(1-pUL[l])**(1-gammaInd[l]) for l in range(len(pML))])\n",
    "\n",
    "def calc_pGamma(s):\n",
    "    # calculates P(gamma | Z, pML, pUL) for ENTIRE gamma (which has n1*n2 entries)\n",
    "    pGamma = 1\n",
    "    print(pGamma)\n",
    "    for index, row in Gamma.iterrows():\n",
    "        if row['j'] == s.Z[row['i']]:\n",
    "            print('hello')\n",
    "            pGamma = pGamma * calc_pGammaM(row['gamma'],pML)\n",
    "        else:\n",
    "            pGamma = pGamma*calc_pGammaU(row['gamma'],pUL)\n",
    "            \n",
    "    return pGamma\n",
    "\n",
    "def calc_pNM_Z(s):\n",
    "    #returns P(nM, Z | current params) ~ P(nM | pM) * P(Z | nM) * P(gamma | all param, Z) \n",
    "\n",
    "    pNM = binom.pmf(s.nM, n2, pM)  # p(nM | pM) ~ Binom(nM successes out of n2, w/ param pM)\n",
    "    pZ = scipy.math.factorial(n1-s.nM)/scipy.math.factorial(n1)\n",
    "    \n",
    "    # up to here this is defined for nM = 0 \n",
    "    pGamma = calc_pGamma(s) \n",
    "    \n",
    "    return pNM * pZ * pGamma"
   ]
  },
  {
   "cell_type": "code",
   "execution_count": 850,
   "metadata": {},
   "outputs": [
    {
     "name": "stdout",
     "output_type": "stream",
     "text": [
      "1\n",
      "hello\n",
      "5.101833600000002e-07\n"
     ]
    }
   ],
   "source": [
    "n1 = 3\n",
    "n2 = 2\n",
    "s = make_state([0,3])\n",
    "print(s.llh)\n",
    "\n"
   ]
  },
  {
   "cell_type": "code",
   "execution_count": 851,
   "metadata": {
    "collapsed": true
   },
   "outputs": [],
   "source": [
    "def gibbs(Gamma, iters, init, hypers, Z_init):\n",
    "    # some assertions needed here\n",
    "    assert len(init[\"pML\"]) == len(init[\"pUL\"]), 'dimensions of pML and pUL do not match'\n",
    "    \n",
    "    pM = init[\"pM\"]\n",
    "    pML = init[\"pML\"]\n",
    "    pUL = init[\"pUL\"]\n",
    "    nPar = 1 + len(pML) + len(pUL) \n",
    "    \n",
    "    L = len(pML)\n",
    "    numPair = Gamma.shape[0]\n",
    "    \n",
    "    trace = np.zeros((iters,nPar)) \n",
    "    Z_trace = {}\n",
    "    \n",
    "    #initialize global state vars\n",
    "    state = make_state(Z_init)\n",
    "    (Z, nM, matchedX2, unmatchedX2, matchedX1, unmatchedX1, llh) = \\\n",
    "            (state.Z, state.nM, state.matchedX2, state.unmatchedX2, state.matchedX1,\\\n",
    "             state.unmatchedX1, state.llh)\n",
    "    print(state.llh)\n",
    "        \n",
    "    for it in range(iters):\n",
    "   \n",
    "        # 1. Draw pM | Z ~ Beta(aM + nM(Z), bM + n2 - nM(Z)) \n",
    "        pM = sample_pM(hypers['aM'], hypers['bM']) \n",
    "        \n",
    "        # 2. Draw pML | Z, pUL | Z\n",
    "        gamma = Gamma['gamma']\n",
    "        pML = sample_pML(hypers['aML'], hypers['bML'])\n",
    "        pUL = sample_pUL(hypers['aUL'], hypers['bUL'])\n",
    "        \n",
    "#       3. Use Metropolis-Hastings algorithm to draw values of $Z$ and $n_{12}(Z)$ from\n",
    "#         their full conditional distributions. \n",
    "        \n",
    "#         moveType = np.random.randint(2) + 1\n",
    "#         move = 'move_' + str(moveType) + '(state)'\n",
    "#         state = eval(move)\n",
    "        state = move_2(state)\n",
    "    \n",
    "        trace[it,:] = np.append(np.append(pM, pML),pUL) # update trace\n",
    "        for x in matchedX2:\n",
    "            if x not in Z_trace:\n",
    "                Z_trace[x] = {}\n",
    "                Z_trace[x][Z[x]] = 0\n",
    "            Z_trace[x][Z[x]] += 1\n",
    "            \n",
    "    trace = pd.DataFrame(trace)\n",
    "    \n",
    "    pML_names = ['pML_' + str(i) for i in range(1,L+1)]\n",
    "    pUL_names = ['pUL_' + str(i) for i in range(1,L+1)]\n",
    "    trace.columns= ['pM'] + pML_names + pUL_names\n",
    "    return trace, Z_trace"
   ]
  },
  {
   "cell_type": "code",
   "execution_count": 852,
   "metadata": {},
   "outputs": [
    {
     "name": "stdout",
     "output_type": "stream",
     "text": [
      "1\n",
      "hello\n",
      "5.101833600000002e-07\n"
     ]
    },
    {
     "ename": "TypeError",
     "evalue": "calc_pNM_Z() takes 1 positional argument but 3 were given",
     "output_type": "error",
     "traceback": [
      "\u001b[0;31m---------------------------------------------------------------------------\u001b[0m",
      "\u001b[0;31mTypeError\u001b[0m                                 Traceback (most recent call last)",
      "\u001b[0;32m<ipython-input-852-0ac1026e223c>\u001b[0m in \u001b[0;36m<module>\u001b[0;34m()\u001b[0m\n\u001b[1;32m      1\u001b[0m \u001b[0mZ_init\u001b[0m \u001b[0;34m=\u001b[0m \u001b[0;34m[\u001b[0m\u001b[0;36m0\u001b[0m\u001b[0;34m,\u001b[0m \u001b[0;36m3\u001b[0m\u001b[0;34m]\u001b[0m\u001b[0;34m\u001b[0m\u001b[0m\n\u001b[0;32m----> 2\u001b[0;31m \u001b[0mgibbs\u001b[0m\u001b[0;34m(\u001b[0m\u001b[0mGamma\u001b[0m\u001b[0;34m,\u001b[0m \u001b[0;36m1\u001b[0m\u001b[0;34m,\u001b[0m \u001b[0minit\u001b[0m\u001b[0;34m,\u001b[0m \u001b[0mhypers\u001b[0m\u001b[0;34m,\u001b[0m \u001b[0mZ_init\u001b[0m\u001b[0;34m)\u001b[0m\u001b[0;34m\u001b[0m\u001b[0m\n\u001b[0m",
      "\u001b[0;32m<ipython-input-851-344b31e3075b>\u001b[0m in \u001b[0;36mgibbs\u001b[0;34m(Gamma, iters, init, hypers, Z_init)\u001b[0m\n\u001b[1;32m     35\u001b[0m \u001b[0;31m#         move = 'move_' + str(moveType) + '(state)'\u001b[0m\u001b[0;34m\u001b[0m\u001b[0;34m\u001b[0m\u001b[0m\n\u001b[1;32m     36\u001b[0m \u001b[0;31m#         state = eval(move)\u001b[0m\u001b[0;34m\u001b[0m\u001b[0;34m\u001b[0m\u001b[0m\n\u001b[0;32m---> 37\u001b[0;31m         \u001b[0mstate\u001b[0m \u001b[0;34m=\u001b[0m \u001b[0mmove_2\u001b[0m\u001b[0;34m(\u001b[0m\u001b[0mstate\u001b[0m\u001b[0;34m)\u001b[0m\u001b[0;34m\u001b[0m\u001b[0m\n\u001b[0m\u001b[1;32m     38\u001b[0m \u001b[0;34m\u001b[0m\u001b[0m\n\u001b[1;32m     39\u001b[0m         \u001b[0mtrace\u001b[0m\u001b[0;34m[\u001b[0m\u001b[0mit\u001b[0m\u001b[0;34m,\u001b[0m\u001b[0;34m:\u001b[0m\u001b[0;34m]\u001b[0m \u001b[0;34m=\u001b[0m \u001b[0mnp\u001b[0m\u001b[0;34m.\u001b[0m\u001b[0mappend\u001b[0m\u001b[0;34m(\u001b[0m\u001b[0mnp\u001b[0m\u001b[0;34m.\u001b[0m\u001b[0mappend\u001b[0m\u001b[0;34m(\u001b[0m\u001b[0mpM\u001b[0m\u001b[0;34m,\u001b[0m \u001b[0mpML\u001b[0m\u001b[0;34m)\u001b[0m\u001b[0;34m,\u001b[0m\u001b[0mpUL\u001b[0m\u001b[0;34m)\u001b[0m \u001b[0;31m# update trace\u001b[0m\u001b[0;34m\u001b[0m\u001b[0m\n",
      "\u001b[0;32m<ipython-input-771-d8006e80f93c>\u001b[0m in \u001b[0;36mmove_2\u001b[0;34m(s)\u001b[0m\n\u001b[1;32m     23\u001b[0m         \u001b[0mconst\u001b[0m \u001b[0;34m=\u001b[0m \u001b[0;34m(\u001b[0m\u001b[0mn1\u001b[0m\u001b[0;34m-\u001b[0m\u001b[0ms\u001b[0m\u001b[0;34m.\u001b[0m\u001b[0mnM\u001b[0m\u001b[0;34m)\u001b[0m\u001b[0;34m*\u001b[0m\u001b[0;34m(\u001b[0m\u001b[0mn2\u001b[0m\u001b[0;34m-\u001b[0m\u001b[0ms\u001b[0m\u001b[0;34m.\u001b[0m\u001b[0mnM\u001b[0m\u001b[0;34m)\u001b[0m\u001b[0;34m/\u001b[0m\u001b[0ms\u001b[0m\u001b[0;34m.\u001b[0m\u001b[0mnM\u001b[0m\u001b[0;34m\u001b[0m\u001b[0m\n\u001b[1;32m     24\u001b[0m \u001b[0;34m\u001b[0m\u001b[0m\n\u001b[0;32m---> 25\u001b[0;31m     \u001b[0mnum\u001b[0m \u001b[0;34m=\u001b[0m \u001b[0mcalc_pNM_Z\u001b[0m\u001b[0;34m(\u001b[0m\u001b[0ms\u001b[0m\u001b[0;34m.\u001b[0m\u001b[0mnM\u001b[0m\u001b[0;34m+\u001b[0m\u001b[0;36m1\u001b[0m\u001b[0;34m,\u001b[0m \u001b[0ms\u001b[0m\u001b[0;34m.\u001b[0m\u001b[0mZ\u001b[0m\u001b[0;34m,\u001b[0m \u001b[0ms\u001b[0m\u001b[0;34m.\u001b[0m\u001b[0mmatchedX2\u001b[0m\u001b[0;34m)\u001b[0m\u001b[0;34m\u001b[0m\u001b[0m\n\u001b[0m\u001b[1;32m     26\u001b[0m     \u001b[0mprint\u001b[0m\u001b[0;34m(\u001b[0m\u001b[0;34m'num is '\u001b[0m \u001b[0;34m+\u001b[0m \u001b[0mstr\u001b[0m\u001b[0;34m(\u001b[0m\u001b[0mnum\u001b[0m\u001b[0;34m)\u001b[0m\u001b[0;34m)\u001b[0m\u001b[0;34m\u001b[0m\u001b[0m\n\u001b[1;32m     27\u001b[0m     \u001b[0mprint\u001b[0m\u001b[0;34m(\u001b[0m\u001b[0;34m'llh is '\u001b[0m \u001b[0;34m+\u001b[0m \u001b[0mstr\u001b[0m\u001b[0;34m(\u001b[0m\u001b[0ms\u001b[0m\u001b[0;34m.\u001b[0m\u001b[0mllh\u001b[0m\u001b[0;34m)\u001b[0m\u001b[0;34m)\u001b[0m\u001b[0;34m\u001b[0m\u001b[0m\n",
      "\u001b[0;31mTypeError\u001b[0m: calc_pNM_Z() takes 1 positional argument but 3 were given"
     ]
    }
   ],
   "source": [
    "Z_init = [0, 3]\n",
    "gibbs(Gamma, 1, init, hypers, Z_init)"
   ]
  },
  {
   "cell_type": "markdown",
   "metadata": {},
   "source": [
    "### Likelihood functions"
   ]
  },
  {
   "cell_type": "markdown",
   "metadata": {},
   "source": [
    "The functions below are used to evaluate the (non-normalized) posterior conditional distribution of $(n_{M}, Z)$ given the current parameter values according to:\n",
    "\n",
    "$$ Pr(n_{M}, Z\\ |\\ \\Gamma, \\{p_{M\\ell}, p_{U\\ell}, \\ell = 1,\\dots,L \\}, p_M, \\alpha, \\beta) \\propto P(n_{M}\\ |\\ p_M) P(Z\\ |\\ n_{M}) P(\\Gamma\\ |\\ Z, \\{p_{M\\ell}, p_{U\\ell}, \\ell = 1,\\dots,L \\}) $$\n",
    "\n",
    "where $P(\\Gamma\\ |\\ Z, etc.)$ = that annoying thing. \n",
    "\n",
    "In principle we could enumerate all possible $Z$ but that would be huge.  So instead we draw new values of $n_{12}^*, I^*$ incrementally. \n",
    "\n"
   ]
  },
  {
   "cell_type": "markdown",
   "metadata": {},
   "source": [
    "### Move #1: $\\ n_m^* = n_m - 1$\n",
    "\n",
    "Pick a record $j$ at random from the set of matched records $\\{j: Z_j \\leq n_{1}\\}$ (with equal probability). "
   ]
  },
  {
   "cell_type": "code",
   "execution_count": 749,
   "metadata": {},
   "outputs": [],
   "source": [
    "#gamma, n1, n2, pM, pML, pUL will be updated globally \n",
    "    \n",
    "def move_1(s):\n",
    "    \n",
    "    assert len(s.matchedX2) == s.nM, 'nM is not calibrated correctly'\n",
    "    assert len(s.matchedX2) == len(s.matchedX1), 'not bipartite matching'\n",
    "    \n",
    "    if len(s.matchedX2) == 0:\n",
    "        print('no matches to remove, try another move')\n",
    "        return s\n",
    "    \n",
    "    old_state = make_state(s.Z) # save current Z\n",
    "    \n",
    "    #option 1 - randomly select i in matchedX2 and set to non-match \n",
    "\n",
    "    i = s.matchedX2[np.random.randint(s.nM)] # randomly select i in X2\n",
    "    old_match = s.Z[i]                       # save its old match\n",
    "    s.Z[i] = i + n1                          # set i's status to non-match in Z\n",
    "    new_state = make_state(s.Z)\n",
    "    \n",
    "    # calculate jump probability\n",
    "    \n",
    "    if nM == n2: # THIS THROWS ERROR divide by zero problem -- CHECK THIS\n",
    "        const = 1\n",
    "    else:\n",
    "        const = nM/((n1-nM)*(n2-nM)) \n",
    "        \n",
    "#     num = calc_pNM_Z(s.nM-1, s.Z, s.matchedX2)\n",
    "    \n",
    "    pMH = min(1, new_state['llh']*const/old_state['llh'])\n",
    "    print('prob of jump is ' + str(pMH))\n",
    "                                                  \n",
    "    # choose jump or not\n",
    "    accept = np.random.binomial(1, pMH)\n",
    "    \n",
    "    if accept == 1:  # update param to reflect move (must do unmatched first)\n",
    "#         s.unmatchedX2 += [s.matchedX2[removeInd]]\n",
    "#         s.unmatchedX1 += [old_match]\n",
    "        \n",
    "#         s.matchedX2 = np.delete(s.matchedX2, removeInd) \n",
    "#         s.matchedX1.remove(old_match) # free up its match\n",
    "        \n",
    "#         s.nM = s.nM - 1\n",
    "#         s.curr_llh = num\n",
    "        return new_state\n",
    "        \n",
    "    else:            # don't change anything, restore old Z\n",
    "        return old_state\n",
    "#     return s\n",
    "#     (output['matchedX2'], output['matchedX1'], output['unmatchedX2'],\\\n",
    "#          output['unmatchedX1'], output['nM'], output['Z'], output['llh']) = \\\n",
    "#         (matchedX2, matchedX1, unmatchedX2, unmatchedX1, nM, Z, curr_llh)\n",
    "#     return output\n"
   ]
  },
  {
   "cell_type": "code",
   "execution_count": null,
   "metadata": {
    "collapsed": true
   },
   "outputs": [],
   "source": []
  },
  {
   "cell_type": "markdown",
   "metadata": {},
   "source": [
    "### Move #2: $\\ n_m^* = n_m + 1$\n",
    "\n",
    "Pick a record $j$ at random from the set of unmatched records $\\{j: Z_j > n_{1}\\}$ (with equal probability). \n",
    "\n",
    "NOT SURE IF CORRECT YET"
   ]
  },
  {
   "cell_type": "code",
   "execution_count": 771,
   "metadata": {
    "collapsed": true
   },
   "outputs": [],
   "source": [
    "def move_2(s):\n",
    "    \n",
    "    assert len(s.matchedX2) == s.nM, 'nM is not calibrated correctly'\n",
    "    assert len(s.matchedX2) == len(s.matchedX1), 'not bipartite matching'\n",
    "    \n",
    "    if (len(s.unmatchedX2) == 0) or (len(s.unmatchedX1) == 0):\n",
    "        print('nothing left to match, try another move')\n",
    "        return s\n",
    "    \n",
    "    Z_old = list(s.Z)  # save current Z\n",
    "    \n",
    "    # option 1 - randomly select which record pair to add\n",
    "    \n",
    "    addIndex2 = np.random.randint(len(s.unmatchedX2)) # randomly pick record to give match\n",
    "    addIndex1 = np.random.randint(len(s.unmatchedX1)) # randomly pick its match\n",
    "    s.Z[s.unmatchedX2[addIndex2]] = s.unmatchedX1[addIndex1]              # assign new match \n",
    "    \n",
    "    # calculate probability of jump\n",
    "    \n",
    "    if s.nM == 0:        # DIVIDE BY ZERO ERROR THINK ABOUT HOW TO FIX\n",
    "        const = 1\n",
    "    else:\n",
    "        const = (n1-s.nM)*(n2-s.nM)/s.nM\n",
    "        \n",
    "    num = calc_pNM_Z(s)\n",
    "    print('num is ' + str(num))\n",
    "    print('llh is ' + str(s.llh))\n",
    "    pMH = min(1, num*const/s.llh)\n",
    "    print('prob of jump is ' + str(pMH))\n",
    "    accept = np.random.binomial(1, pMH)\n",
    "    \n",
    "    if accept == 1:\n",
    "        # update param to reflect move (could write function for this)\n",
    "        s.matchedX2 += [s.unmatchedX2[addIndex2]]\n",
    "        s.matchedX1 += [s.unmatchedX1[addIndex1]]\n",
    "        \n",
    "        s.unmatchedX2 = np.delete(s.unmatchedX2, addIndex2)\n",
    "        s.unmatchedX1 = np.delete(s.unmatchedX1, addIndex1)\n",
    "        \n",
    "        s.nM += 1\n",
    "        s.curr_llh = num\n",
    "        \n",
    "    else:\n",
    "        s.Z = Z_old\n",
    "        \n",
    "    return s"
   ]
  },
  {
   "cell_type": "markdown",
   "metadata": {},
   "source": [
    "### Move #3: $\\ n_M$ changed, but $Z$ altered\n",
    "\n",
    "#### variation 1: Two matches switch pairings"
   ]
  },
  {
   "cell_type": "code",
   "execution_count": 607,
   "metadata": {
    "collapsed": true
   },
   "outputs": [],
   "source": [
    "def move_3_v1():\n",
    "    #updates state only \n",
    "    \n",
    "    # in this type of move, the matched and unmatched don't change\n",
    "    \n",
    "    Z_old = list(Z)\n",
    "    \n",
    "    #Randomly select 2 matched pairs with prob 2/nm(nm-1)\n",
    "    (i,k) = np.random.choice(nM, size=2, replace=False, p=None)\n",
    "    j = Z[i]\n",
    "    l = Z[k]\n",
    "    \n",
    "    # calculate jump probability pMH\n",
    "    pMH = calc_pMH_move3(i,j,k,l)\n",
    "    \n",
    "    print('prob of jump is ' + str(pMH))\n",
    "    accept = np.random.binomial(1, pMH)\n",
    "    \n",
    "    if accept == 1:\n",
    "        \n",
    "        # flip entries in Z\n",
    "        Z[i] = l\n",
    "        Z[k] = j\n",
    "        \n",
    "        #nM doesn't need changing\n",
    "        curr_llh = num # NEED TO UPDATE THIS \n",
    "        \n",
    "    else:\n",
    "        Z = Z_old\n",
    "    (state['curr_llh'], state['Z']) = llh, Z\n",
    "    return state"
   ]
  },
  {
   "cell_type": "markdown",
   "metadata": {},
   "source": [
    "consider making an output class that contains all state var for MCMC"
   ]
  },
  {
   "cell_type": "code",
   "execution_count": 602,
   "metadata": {
    "collapsed": true
   },
   "outputs": [],
   "source": [
    "def calc_pMH_move3(i, j, k, l):\n",
    "    \n",
    "    gTemp = Gamma[(Gamma['i']==i)|(Gamma['i']==k)]\n",
    "    gTemp = gTemp[(Gamma['j']==j)|(Gamma['j']==l)]\n",
    "    \n",
    "    gamma_il = Gamma[(Gamma['i']==i) & (Gamma['j']==l)]['gamma']\n",
    "    gamma_kj = Gamma[(Gamma['i']==k) & (Gamma['j']==j)]['gamma']\n",
    "    gamma_ij = Gamma[(Gamma['i']==i) & (Gamma['j']==j)]['gamma']\n",
    "    gamma_kl = Gamma[(Gamma['i']==k) & (Gamma['j']==l)]['gamma']\n",
    "    \n",
    "    num = calc_pGammaM(gamma_il, pML)*calc_pGammaM(gamma_kj, pML) *\\\n",
    "            calc_pGammaU(gamma_ij, pUL)*calc_pGammaU(gamma_kl, pUL)\n",
    "    denom = calc_pGammaM(gamma_ij, pML)*calc_pGammaM(gamma_kl, pML) *\\\n",
    "            calc_pGammaU(gamma_il, pUL)*calc_pGammaU(gamma_kj, pUL)\n",
    "    return min(1, num/denom)"
   ]
  },
  {
   "cell_type": "code",
   "execution_count": null,
   "metadata": {
    "collapsed": true
   },
   "outputs": [],
   "source": []
  }
 ],
 "metadata": {
  "kernelspec": {
   "display_name": "Python 3",
   "language": "python",
   "name": "python3"
  },
  "language_info": {
   "codemirror_mode": {
    "name": "ipython",
    "version": 3
   },
   "file_extension": ".py",
   "mimetype": "text/x-python",
   "name": "python",
   "nbconvert_exporter": "python",
   "pygments_lexer": "ipython3",
   "version": "3.6.1"
  }
 },
 "nbformat": 4,
 "nbformat_minor": 2
}
