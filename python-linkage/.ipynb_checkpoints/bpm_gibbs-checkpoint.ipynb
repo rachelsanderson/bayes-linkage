{
 "cells": [
  {
   "cell_type": "markdown",
   "metadata": {},
   "source": [
    "## bpm_gibbs.py\n",
    "\n",
    "\n",
    "The following is code for a Gibbs sampler for MCMC estimation of bipartite matching approach to record linkage."
   ]
  },
  {
   "cell_type": "markdown",
   "metadata": {},
   "source": [
    "## Bipartite matching approach to record linkage\n",
    "\n",
    "Suppose that files $X_1$ and $X_2$ contain $n_1$ and $n_2$ records, respectively, and\n",
    "without loss of generality that $n1 \\geq n_2$. Denote also the number of entities represented in\n",
    "both files as $n_{12}$, so that $n_2 \\geq n_{12} \\geq 0$.\n",
    "\n",
    "The set of records coming from the two files can be represented as a *bipartite matching* and the parameter of interest is a matching matrix $\\Delta$ of size $n_1\\times n_2$ whose $(i,j)$th entry is defined as \n",
    "\n",
    "$$ \\Delta_{ij} = \\begin{cases} 1, & \\text{ if records $i\\in X_1$ and $j\\in X_2$ refer to the same entity;} \\\\ 0, & \\text{otherwise} \\end{cases} $$\n",
    "\n",
    "Sadinle (2017) uses a more compact representation called a *matching labeling*, which is useful when $n_1\\times n_2$ is large.  Formally, the matching labeling is $Z = (Z_1, Z_2, \\dots, Z_{n2})$, such that\n",
    "\n",
    "$$ Z_j = \\begin{cases} i, & \\text{if records $i\\in X_1$ and $j\\in X_2$ refer to the same entity;} \\\\ n_1+j, & \\text{if records $j\\in X_2$ does not have a match in $X_1$ } \\end{cases} $$\n",
    "\n",
    "#### Advantages"
   ]
  },
  {
   "cell_type": "markdown",
   "metadata": {},
   "source": [
    "#### Prior for $m$ and $u$ probabilities\n",
    "\n",
    "It is expected that the probability of agreeing on an individual field of comparison is higher for matches than for nonmatches:\n",
    "\n",
    "$$Pr(\\gamma_{\\ell}(a,b) = 1 |\\ (a,b) \\in M) > Pr(\\gamma_{\\ell}(a,b) = 1 |\\ (a,b) \\in U) $$ \n",
    "\n",
    "Use a dirichlet instead of independent betas. \n",
    "\n",
    "#### Beta Prior for Bipartite Matchings $Z$\n",
    "\n",
    "This comes from Larsen (2005) and Sadinle (2017)/\n",
    "\n",
    "Just as in the mixture model approach, the prior probability that $j \\in X_2$ is:\n",
    "\n",
    "$$ I(Z_j \\leq n_1)  \\overset{i.i.d}{\\sim} \\text{Bernoulli}(p_M)$$\n",
    "\n",
    "where $p_M$ represents the proporiton of matches expected a priori as a fraction of the smallest file $X_2$.  Same as before, the hyperprior for $p_M$ is:\n",
    "\n",
    "$$ p_M \\sim \\text{Beta}(\\alpha_{M}, \\beta_{M})$$ \n",
    "\n",
    "The prior on $p_M$ implies $n_{12}(Z) = \\sum_{j=1}^{n_2} I(Z_j \\leq n_1)$, the number of matches according to matching labeling $Z$ is distributed as:\n",
    "\n",
    "$$n_{12}(Z) \\sim \\text{Beta-Binomial}(n_2, \\alpha_{M}, \\beta_{M}) $$ \n",
    "\n",
    "after marginalizing over $p_M$.\n",
    "\n",
    "Conditioning on $\\{I(Z_j \\leq n_1)\\}_{j=1}^{n_2}$, all possible bipartite matchings are taken to be equally likely, so $$Pr(Z\\ |\\ n_{12}) = \\left(\\frac{n_1!}{(n_1-n_{12})!}\\right)^{-1}$$\n",
    "\n",
    "These conditions imply the joint prior over $Z$:\n",
    "\n",
    "$$Pr(Z\\ |\\ \\alpha_M, \\beta_M) = \\frac{(n_1-n_{12}(Z))!}{n_1!}\\frac{\\text{Beta}(n_{12}(Z) + \\alpha_M,\\ n_2-n_{12}(Z) + \\beta_M)}{\\text{Beta}(\\alpha_M, \\beta_M)}$$\n",
    "\n",
    "\n"
   ]
  },
  {
   "cell_type": "markdown",
   "metadata": {},
   "source": [
    "\n",
    "Finally \n",
    "\n",
    "$$\\Gamma_{ij} | Z_j = i \\overset{i.i.d}{\\sim} M(m)$$\n",
    "\n",
    "$$\\Gamma_{ij}\\ |\\ Z_j \\neq i \\overset{i.i.d}{\\sim} U(u) $$\n",
    "\n",
    "$$ m_f \\sim Dirichlet(\\alpha_{\\ell(0)}, \\dots, \\alpha_{\\ell L}) $$"
   ]
  },
  {
   "cell_type": "markdown",
   "metadata": {
    "collapsed": true
   },
   "source": [
    "### Gibbs Sampler\n",
    "\n",
    "Initialize match/nonmatch configuration $Z$. Tricks to do this.\n",
    "\n",
    "1. Draw $p_M$ from $$ p_M | Z \\sim \\text{Beta}(\\alpha_M + n_{12}(Z), \\beta_M + n_{2} - n_{12}(Z)) $$ Note this is same as before. \n",
    "\n",
    "2. Draw $p_{M\\ell}$ and $p_{U\\ell}$ from their conditional distributions (same as before).\n",
    "\n",
    "3. Use Metropolis-Hastings algorithm to draw values of $Z$ and $n_{12}(Z)$ from their full conditional distributions.  \n",
    "\n",
    "The only difference is step 3! $I$ is no longer a bunch of Bernoullis, and assignment of $I(a,b)$ will now affect $I(a',b')$ which is desirable. "
   ]
  },
  {
   "cell_type": "markdown",
   "metadata": {},
   "source": [
    "The conditional distribution of $(n_{12}, I)$ is\n",
    "\n",
    "$$ Pr(n_{12}, I) | \\gamma, \\{p_{M\\ell}, p_{U\\ell}, \\ell = 1,\\dots,L \\}, p_M, \\alpha, \\beta) \\propto P(n_{12} | p_M) P(I | n_{12}) P(\\gamma | I, \\{p_{M\\ell}, p_{U\\ell}, \\ell = 1,\\dots,L \\}) $$\n",
    "\n",
    "In principle we could enumerate all possible $Z$ but that would be huge.  So instead we draw new values of $n_{12}^*, I^*$ incrementally. \n",
    "\n"
   ]
  },
  {
   "cell_type": "markdown",
   "metadata": {},
   "source": [
    "### Python setup"
   ]
  },
  {
   "cell_type": "code",
   "execution_count": 23,
   "metadata": {
    "collapsed": true
   },
   "outputs": [],
   "source": [
    "import numpy as np\n",
    "import scipy\n",
    "\n",
    "%matplotlib inline\n",
    "from seaborn import plt\n",
    "import pandas as pd \n",
    "import itertools\n",
    "\n",
    "plt.rcParams['figure.figsize'] = (10, 5)"
   ]
  },
  {
   "cell_type": "markdown",
   "metadata": {},
   "source": [
    "### Likelihood functions"
   ]
  },
  {
   "cell_type": "markdown",
   "metadata": {},
   "source": [
    "The functions below evaluate this thing. "
   ]
  },
  {
   "cell_type": "code",
   "execution_count": 385,
   "metadata": {
    "collapsed": true
   },
   "outputs": [],
   "source": [
    "#Functions for evaluating llh of data\n",
    "\n",
    "def calc_pGammaM(gammaInd,pML):\n",
    "    assert len(gammaInd) == len(pML), 'dim do not match'\n",
    "    return np.prod([(pML[l]**gammaInd[l])*(1-pML[l])**(1-gammaInd[l]) for l in range(len(pML))])\n",
    "\n",
    "def calc_pGammaU(gammaInd,pUL):\n",
    "    assert len(gammaInd) == len(pUL), 'dim do not match'\n",
    "    return np.prod([(pUL[l]**gammaInd[l])*(1-pUL[l])**(1-gammaInd[l]) for l in range(len(pML))])\n",
    "\n",
    "### NOT SURE IF THIS IS RIGHT. DO I NEED TO CONSIDER PROB. OF NOT MATCHING WITH SOMEONE ELSE IN BPM?\n",
    "\n",
    "def calc_pGamma(matchedX2, Z):\n",
    "    # calculates P(gamma | Z, pML, pUL) for ENTIRE gamma (which has n1*n2 entries)\n",
    "    pGamma = 1   \n",
    "    \n",
    "    for index, row in Gamma.iterrows():\n",
    "        i = row['i']\n",
    "        if i in matchedX2: \n",
    "            if row['j'] == Z[i]:\n",
    "                pGamma = pGamma * calc_pGammaM(row['gamma'],pML)\n",
    "        else: \n",
    "            pGamma = pGamma*calc_pGammaU(row['gamma'],pUL)\n",
    "    return pGamma\n",
    "\n",
    "def calc_pNM_Z(nM, Z, matchedX2):\n",
    "    #returns P(nM, Z | current params) ~ P(nM | pM) * P(Z | nM) * P(gamma | all param, Z) \n",
    "    \n",
    "    pNM = binom.pmf(nM, n2, pM)  # p(nM | pM) ~ Binom(nM successes out of n2, w/ param pM)\n",
    "    pI = scipy.math.factorial(n1-nM)/scipy.math.factorial(n1)\n",
    "    pGamma = calc_pGamma(matchedX2, Z) \n",
    "    \n",
    "    return pNM * pI * pGamma"
   ]
  },
  {
   "cell_type": "markdown",
   "metadata": {},
   "source": [
    "### Move 1: $\\ n_m^* = n_m - 1$\n",
    "\n",
    "Pick a record $j$ at random from the set of matched records $\\{j: Z_j \\leq n_{1}\\}$ (with equal probability). "
   ]
  },
  {
   "cell_type": "code",
   "execution_count": 333,
   "metadata": {
    "collapsed": true
   },
   "outputs": [],
   "source": [
    "#gamma, n1, n2, pM, pML, pUL will be updated globally \n",
    "    \n",
    "def move_1(matchedX2, matchedX1, unmatchedX2, unmatchedX1, nM, Z, curr_llh):\n",
    "    \n",
    "    assert len(matchedX2) == nM, 'nM is not calibrated correctly'\n",
    "    assert len(matchedX2) == len(matchedX1), 'not bipartite matching'\n",
    "    assert len(matchedX2) != 0, 'no matches to remove'\n",
    "    \n",
    "    #option 1 - randomly selects which matched pair to remove\n",
    "    \n",
    "    output = {}\n",
    "    Z_old = list(Z) # save current Z\n",
    "    \n",
    "    # randomly select the pair and set to non-match \n",
    "    removeInd = np.random.randint(nM)    \n",
    "    old_match = Z[matchedX2[removeInd]]   # save match to be removed\n",
    "    Z[matchedX2[removeInd]] = matchedX2[removeInd] + n1    # set non-match in Z\n",
    "    \n",
    "    # calculate jump probability\n",
    "    if nM == n2: # divide by zero problem -- CHECK THIS\n",
    "        const = 1\n",
    "    else:\n",
    "        const = nM/((n1-nM)*(n2-nM)) \n",
    "    num = calc_pNM_Z(nM-1, Z, matchedX2)\n",
    "    pMH = min(1, num*const/curr_llh)\n",
    "    print('prob of jump is ' + str(pMH))\n",
    "    # choose jump or not\n",
    "    accept = np.random.binomial(1, pMH)\n",
    "    \n",
    "    if accept == 1:  # update param to reflect move (must do unmatched first)\n",
    "        unmatchedX2 += [matchedX2[removeInd]]\n",
    "        unmatchedX1 += [old_match]\n",
    "        \n",
    "        matchedX2 = np.delete(matchedX2, removeInd) \n",
    "        matchedX1.remove(old_match) # free up its match\n",
    "        \n",
    "        nM = nM - 1\n",
    "        curr_llh = num\n",
    "        \n",
    "    else:            # don't change anything, restore old Z\n",
    "        Z = Z_old\n",
    "\n",
    "    (output['matchedX2'], output['matchedX1'], output['unmatchedX2'],\\\n",
    "         output['unmatchedX1'], output['nM'], output['Z'], output['llh']) = \\\n",
    "        (matchedX2, matchedX1, unmatchedX2, unmatchedX1, nM, Z, curr_llh)\n",
    "    return output\n"
   ]
  },
  {
   "cell_type": "markdown",
   "metadata": {},
   "source": [
    "### Move 2: $\\ n_m^* = n_m + 1$\n",
    "\n",
    "Pick a record $j$ at random from the set of unmatched records $\\{j: Z_j > n_{1}\\}$ (with equal probability). \n",
    "\n",
    "NOT SURE IF CORRECT YET"
   ]
  },
  {
   "cell_type": "code",
   "execution_count": 370,
   "metadata": {},
   "outputs": [],
   "source": [
    "def move_2(matchedX2, matchedX1, unmatchedX2, unmatchedX1, nM, Z, curr_llh):\n",
    "    \n",
    "    assert len(matchedX2) == nM, 'nM is not calibrated correctly'\n",
    "    assert len(matchedX2) == len(matchedX1), 'not bipartite matching'\n",
    "    assert len(unmatchedX2) != 0, 'nothing left to match in X2'\n",
    "    assert len(unmatchedX1) != 0, 'nothing left to match in X1'\n",
    "    \n",
    "    output = {}\n",
    "    Z_old = list(Z)                             # save current Z\n",
    "    \n",
    "    # option 1 - randomly select which record pair to add\n",
    "    \n",
    "    addIndex2 = np.random.randint(len(unmatchedX2)) # randomly pick record to give match\n",
    "    addIndex1 = np.random.randint(len(unmatchedX1)) # randomly pick its match\n",
    "    Z[unmatchedX2[addIndex2]] = unmatchedX1[addIndex1]              # assign new match \n",
    "    \n",
    "    # calculate probability of jump\n",
    "    \n",
    "    if nM == 0:        # DIVIDE BY ZERO ERROR THINK ABOUT HOW TO FIX\n",
    "        const = 1\n",
    "    else:\n",
    "        const = (n1-nM)*(n2-nM)/nM\n",
    "    num = calc_pNM_Z(nM+1, Z, matchedX2)\n",
    "\n",
    "    pMH = min(1, num*const/curr_llh)\n",
    "    print('prob of jump is ' + str(pMH))\n",
    "    accept = np.random.binomial(1, pMH)\n",
    "    \n",
    "    if accept == 1:\n",
    "        # update param to reflect move (could write function for this)\n",
    "        matchedX2 += [unmatchedX2[addIndex2]]\n",
    "        matchedX1 += [unmatchedX1[addIndex1]]\n",
    "        \n",
    "        unmatchedX2 = np.delete(unmatchedX2, addIndex2)\n",
    "        unmatchedX1 = np.delete(unmatchedX1, addIndex1)\n",
    "        \n",
    "        nM = nM + 1\n",
    "        curr_llh = num\n",
    "        \n",
    "    else:\n",
    "        Z = Z_old\n",
    "        \n",
    "    (output['matchedX2'], output['matchedX1'], output['unmatchedX2'],\\\n",
    "         output['unmatchedX1'], output['nM'], output['Z'], output['llh']) = \\\n",
    "        (matchedX2, matchedX1, unmatchedX2, unmatchedX1, nM, Z, curr_llh)\n",
    "    return output"
   ]
  },
  {
   "cell_type": "code",
   "execution_count": 399,
   "metadata": {},
   "outputs": [
    {
     "name": "stdout",
     "output_type": "stream",
     "text": [
      "prob of jump is 0.1\n"
     ]
    },
    {
     "data": {
      "text/plain": [
       "{'Z': [2],\n",
       " 'llh': 0.0009000000000000003,\n",
       " 'matchedX1': [],\n",
       " 'matchedX2': [],\n",
       " 'nM': 0,\n",
       " 'unmatchedX1': array([0, 1]),\n",
       " 'unmatchedX2': array([0])}"
      ]
     },
     "execution_count": 399,
     "metadata": {},
     "output_type": "execute_result"
    }
   ],
   "source": [
    "# Stuff for testing\n",
    "Gamma = pd.DataFrame()\n",
    "gamma = np.matrix('0 1; 1,1')\n",
    "Gamma['gamma'] = arr.tolist()\n",
    "Gamma['i'] = [0,0]\n",
    "Gamma['j'] = [0,1]\n",
    "pML = [1, 1]\n",
    "pUL = [.1, .1]\n",
    "pM = .2\n",
    "n1 = 2\n",
    "n2 = 1\n",
    "matchedX2 = []\n",
    "matchedX1 =  []\n",
    "nM = len(matchedX2)\n",
    "unmatchedX2 = np.delete([i for i in range(n2)], matchedX2)\n",
    "unmatchedX1 = np.delete([i for i in range(n1)], matchedX1)\n",
    "Z = [2]\n",
    "curr_llh = calc_pGamma(matchedX2, Z)\n",
    "print(len(unmatchedX2))\n",
    "print(unmatchedX2)\n",
    "output = move_2(matchedX2, matchedX1, unmatchedX2, unmatchedX1, nM, Z, curr_llh)\n"
   ]
  },
  {
   "cell_type": "code",
   "execution_count": null,
   "metadata": {},
   "outputs": [],
   "source": []
  },
  {
   "cell_type": "code",
   "execution_count": null,
   "metadata": {
    "collapsed": true
   },
   "outputs": [],
   "source": []
  }
 ],
 "metadata": {
  "kernelspec": {
   "display_name": "Python 3",
   "language": "python",
   "name": "python3"
  },
  "language_info": {
   "codemirror_mode": {
    "name": "ipython",
    "version": 3
   },
   "file_extension": ".py",
   "mimetype": "text/x-python",
   "name": "python",
   "nbconvert_exporter": "python",
   "pygments_lexer": "ipython3",
   "version": "3.6.1"
  }
 },
 "nbformat": 4,
 "nbformat_minor": 2
}
