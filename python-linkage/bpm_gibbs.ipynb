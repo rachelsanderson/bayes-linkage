{
 "cells": [
  {
   "cell_type": "markdown",
   "metadata": {},
   "source": [
    "## bpm_gibbs.py\n",
    "\n",
    "\n",
    "The following is code for a Gibbs sampler for MCMC estimation of bipartite matching approach to record linkage."
   ]
  },
  {
   "cell_type": "markdown",
   "metadata": {},
   "source": [
    "## Bipartite matching approach to record linkage\n",
    "\n",
    "Suppose that files $X_1$ and $X_2$ contain $n_1$ and $n_2$ records, respectively, and\n",
    "without loss of generality that $n1 \\geq n_2$. Denote also the number of entities represented in\n",
    "both files as $n_{12}$, so that $n_2 \\geq n_{12} \\geq 0$.\n",
    "\n",
    "The set of records coming from the two files can be represented as a *bipartite matching* and the parameter of interest is a matching matrix $\\Delta$ of size $n_1\\times n_2$ whose $(i,j)$th entry is defined as \n",
    "\n",
    "$$ \\Delta_{ij} = \\begin{cases} 1, & \\text{ if records $i\\in X_1$ and $j\\in X_2$ refer to the same entity;} \\\\ 0, & \\text{otherwise} \\end{cases} $$\n",
    "\n",
    "Sadinle (2017) uses a more compact representation called a *matching labeling*, which is useful when $n_1\\times n_2$ is large.  Formally, the matching labeling is $Z = (Z_1, Z_2, \\dots, Z_{n2})$, such that\n",
    "\n",
    "$$ Z_j = \\begin{cases} i, & \\text{if records $i\\in X_1$ and $j\\in X_2$ refer to the same entity;} \\\\ n_1+j, & \\text{if records $j\\in X_2$ does not have a match in $X_1$ } \\end{cases} $$\n",
    "\n",
    "#### Advantages"
   ]
  },
  {
   "cell_type": "markdown",
   "metadata": {},
   "source": [
    "#### Prior for $m$ and $u$ probabilities\n",
    "\n",
    "It is expected that the probability of agreeing on an individual field of comparison is higher for matches than for nonmatches:\n",
    "\n",
    "$$Pr(\\gamma_{\\ell}(a,b) = 1 |\\ (a,b) \\in M) > Pr(\\gamma_{\\ell}(a,b) = 1 |\\ (a,b) \\in U) $$ \n",
    "\n",
    "Use a dirichlet instead of independent betas. \n",
    "\n",
    "#### Beta Prior for Bipartite Matchings $Z$\n",
    "\n",
    "This comes from Larsen (2005) and Sadinle (2017)/\n",
    "\n",
    "Just as in the mixture model approach, the prior probability that $j \\in X_2$ is:\n",
    "\n",
    "$$ I(Z_j \\leq n_1)  \\overset{i.i.d}{\\sim} \\text{Bernoulli}(p_M)$$\n",
    "\n",
    "where $p_M$ represents the proporiton of matches expected a priori as a fraction of the smallest file $X_2$.  Same as before, the hyperprior for $p_M$ is:\n",
    "\n",
    "$$ p_M \\sim \\text{Beta}(\\alpha_{M}, \\beta_{M})$$ \n",
    "\n",
    "The prior on $p_M$ implies $n_{12}(Z) = \\sum_{j=1}^{n_2} I(Z_j \\leq n_1)$, the number of matches according to matching labeling $Z$ is distributed as:\n",
    "\n",
    "$$n_{12}(Z) \\sim \\text{Beta-Binomial}(n_2, \\alpha_{M}, \\beta_{M}) $$ \n",
    "\n",
    "after marginalizing over $p_M$.\n",
    "\n",
    "Conditioning on $\\{I(Z_j \\leq n_1)\\}_{j=1}^{n_2}$, all possible bipartite matchings are taken to be equally likely, so $$Pr(Z\\ |\\ n_{12}) = \\left(\\frac{n_1!}{(n_1-n_{12})!}\\right)^{-1}$$\n",
    "\n",
    "These conditions imply the joint prior over $Z$:\n",
    "\n",
    "$$Pr(Z\\ |\\ \\alpha_M, \\beta_M) = \\frac{(n_1-n_{12}(Z))!}{n_1!}\\frac{\\text{Beta}(n_{12}(Z) + \\alpha_M,\\ n_2-n_{12}(Z) + \\beta_M)}{\\text{Beta}(\\alpha_M, \\beta_M)}$$\n",
    "\n",
    "\n"
   ]
  },
  {
   "cell_type": "markdown",
   "metadata": {},
   "source": [
    "\n",
    "Finally \n",
    "\n",
    "$$\\Gamma_{ij} | Z_j = i \\overset{i.i.d}{\\sim} M(m)$$\n",
    "\n",
    "$$\\Gamma_{ij}\\ |\\ Z_j \\neq i \\overset{i.i.d}{\\sim} U(u) $$\n",
    "\n",
    "$$ m_f \\sim Dirichlet(\\alpha_{\\ell(0)}, \\dots, \\alpha_{\\ell L}) $$"
   ]
  },
  {
   "cell_type": "markdown",
   "metadata": {
    "collapsed": true
   },
   "source": [
    "### Gibbs Sampler\n",
    "\n",
    "Initialize match/nonmatch configuration $Z$. Tricks to do this.\n",
    "\n",
    "1. Draw $p_M$ from $$ p_M\\ |\\ Z \\sim \\text{Beta}(\\alpha_M + n_{M}(Z),\\ \\beta_M + n_{2} - n_{M}(Z)) $$ Note this is same as before. \n",
    "\n",
    "2. Draw $p_{M\\ell}$ and $p_{U\\ell}$ from their conditional distributions (same as before).\n",
    "\n",
    "3. Use Metropolis-Hastings algorithm to draw values of $Z$ and $n_{12}(Z)$ from their full conditional distributions.  \n",
    "\n",
    "The only difference is step 3! $I$ is no longer a bunch of Bernoullis, and assignment of $I(a,b)$ will now affect $I(a',b')$ which is desirable. "
   ]
  },
  {
   "cell_type": "markdown",
   "metadata": {},
   "source": [
    "### Python setup"
   ]
  },
  {
   "cell_type": "code",
   "execution_count": 1077,
   "metadata": {
    "collapsed": true
   },
   "outputs": [],
   "source": [
    "import numpy as np\n",
    "import scipy\n",
    "\n",
    "%matplotlib inline\n",
    "from seaborn import plt\n",
    "import pandas as pd \n",
    "import itertools\n",
    "\n",
    "plt.rcParams['figure.figsize'] = (10, 5)"
   ]
  },
  {
   "cell_type": "markdown",
   "metadata": {},
   "source": [
    "### 1. Updates for $p_M$\n",
    "\n"
   ]
  },
  {
   "cell_type": "code",
   "execution_count": 1170,
   "metadata": {
    "collapsed": true
   },
   "outputs": [],
   "source": [
    "def sample_pM(s, aM, bM):\n",
    "    aNew = aM + s.nM\n",
    "    bNew = bM + n2 - s.nM\n",
    "    if ((aNew <= 0) or (bNew <=0)): print('neg. beta param')\n",
    "    return np.random.beta(aNew,bNew)"
   ]
  },
  {
   "cell_type": "markdown",
   "metadata": {},
   "source": [
    "### 2. Updates for $p_{M\\ell},\\ p_{U\\ell}$"
   ]
  },
  {
   "cell_type": "code",
   "execution_count": 1171,
   "metadata": {},
   "outputs": [],
   "source": [
    "def sample_pML(s, aML, bML):\n",
    "    assert n2 == len(s.Z), 'Z got messed up'\n",
    "    ones = np.array([1] * L)\n",
    "    aSums = np.zeros(L)\n",
    "    bSums = np.zeros(L)\n",
    "    for x2 in s.matchedX2:\n",
    "        matchInd = Gamma.index[(Gamma['i']==x2)&(Gamma['j']==s.Z[x2])].tolist()\n",
    "        for y in matchInd:\n",
    "            aSums += Gamma.loc[y]['gamma']\n",
    "            bSums += (ones-Gamma.loc[y]['gamma'])\n",
    "    aNew = aML + aSums\n",
    "    bNew = bML + bSums\n",
    "    if ((any(a <= 0 for a in aNew)) or (any(b <= 0 for b in bNew))): print('neg. beta param')\n",
    "    return np.random.beta(aNew, bNew)\n",
    "\n",
    "def sample_pUL(s, aUL, bUL):\n",
    "    assert n2 == len(s.Z), 'Z got messed up'\n",
    "    ones = np.array([1] * L)\n",
    "    aSums = np.zeros(L)\n",
    "    bSums = np.zeros(L)\n",
    "    for x2 in range(n2):\n",
    "        nonMatchInd = Gamma.index[(Gamma['i']==x2)&(Gamma['j']!=s.Z[x2])].tolist()\n",
    "        for y in nonMatchInd:\n",
    "            aSums += Gamma.loc[y]['gamma']\n",
    "            bSums += (ones-Gamma.loc[y]['gamma'])\n",
    "    aNew = aUL + aSums\n",
    "    bNew = bUL + bSums\n",
    "    if ((any(a <= 0 for a in aNew)) or (any(b <= 0 for b in bNew))): print('neg. beta param')\n",
    "    return np.random.beta(aNew, bNew)"
   ]
  },
  {
   "cell_type": "markdown",
   "metadata": {},
   "source": [
    "### 3. Updates for $Z, n_M$ \n",
    "\n",
    "These rely on many helper functions but below is a function that chooses the move type at random."
   ]
  },
  {
   "cell_type": "markdown",
   "metadata": {},
   "source": [
    "### Synthetic Data\n",
    "\n"
   ]
  },
  {
   "cell_type": "markdown",
   "metadata": {},
   "source": [
    "making some data"
   ]
  },
  {
   "cell_type": "markdown",
   "metadata": {},
   "source": [
    "### Writing the Gibbs sampler"
   ]
  },
  {
   "cell_type": "code",
   "execution_count": 1172,
   "metadata": {
    "collapsed": true
   },
   "outputs": [],
   "source": [
    "## specify initial values\n",
    "init = {\"pM\": 0.5,\n",
    "        \"pML\": [0.5]*L,\n",
    "        \"pUL\": [0.5]*L}\n",
    "\n",
    "## specify hyper parameters \n",
    "hypers = {\"aM\": 1,\n",
    "          \"bM\": 1,\n",
    "          \"aML\": [1]*L,\n",
    "          \"bML\": [1]*L,\n",
    "          \"aUL\": [1]*L,\n",
    "          \"bUL\": [1]*L}\n",
    "\n",
    "def check_valid_prior(init):\n",
    "    assert (init[\"pM\"] < 1) and (init['pM'] > 0), 'pM must be between 0,1'\n",
    "    assert (0 not in init['pML']) and (1 not in init['pML']), 'elements of pML must be b/w 0,1'\n",
    "    assert (0 not in init['pUL']) and (1 not in init['pUL']), 'elements of pML must be b/w 0,1'\n",
    "    return "
   ]
  },
  {
   "cell_type": "code",
   "execution_count": 1283,
   "metadata": {},
   "outputs": [],
   "source": [
    "class State(object):\n",
    "    matchedX2 = []\n",
    "    unmatchedX2 = []\n",
    "    matchedX1 = []\n",
    "    unmatchedX1 = []\n",
    "    Z = []\n",
    "    nM = 0\n",
    "    llh = 1\n",
    "    \n",
    "    def __init__(self,Z):\n",
    "        \n",
    "        self.matchedX2 = [i for i in range(n2) if Z[i] < n1]\n",
    "        self.matchedX1 = [i for i in Z if i < n1]\n",
    "        self.nM = len(self.matchedX2)\n",
    "        self.unmatchedX2 = np.delete([i for i in range(n2)], self.matchedX2)\n",
    "        self.unmatchedX1 = [i for i in range(n1) if i not in Z]\n",
    "        self.Z = Z\n",
    "\n",
    "        if len(Z) != len(np.unique(Z)): \n",
    "            print_state(self)\n",
    "            \n",
    "        assert len(Z) == n2, 'invalid bpm'\n",
    "        assert len(Z) == len(np.unique(Z)), 'invalid bpm'\n",
    "               \n",
    "def make_state(Z, pM, pML, pUL):\n",
    "    state = State(Z)\n",
    "    state.llh = calc_pNM_Z(state, pM, pML, pUL)\n",
    "    return state\n",
    "\n",
    "def print_state(s):\n",
    "    print('Z: ' + str(s.Z))\n",
    "    print('matchedX2: ' + str(s.matchedX2))\n",
    "    print('matchedX1: ' + str(s.matchedX1))\n",
    "    print('unmatchedX2: ' + str(s.unmatchedX2))\n",
    "    print('unmatchedX1: ' + str(s.unmatchedX1))\n",
    "    print(type(s.unmatchedX1))\n",
    "    return"
   ]
  },
  {
   "cell_type": "code",
   "execution_count": 1296,
   "metadata": {
    "collapsed": true
   },
   "outputs": [],
   "source": [
    "#Functions for evaluating llh of Z\n",
    "\n",
    "def calc_pGammaM(gammaInd,pML):\n",
    "    assert len(gammaInd) == len(pML), 'dim do not match'\n",
    "    return np.prod([(pML[l]**gammaInd[l])*(1-pML[l])**(1-gammaInd[l]) for l in range(len(pML))])\n",
    "\n",
    "def calc_pGammaU(gammaInd,pUL):\n",
    "    assert len(gammaInd) == len(pUL), 'dim do not match'\n",
    "    return np.prod([(pUL[l]**gammaInd[l])*(1-pUL[l])**(1-gammaInd[l]) for l in range(len(pML))])\n",
    "\n",
    "def calc_pGamma(s, pM, pML, pUL):\n",
    "    # calculates P(gamma | Z, pML, pUL) for ENTIRE gamma (which has n1*n2 entries)\n",
    "    pGamma = 1\n",
    "    for index, row in Gamma.iterrows():\n",
    "        if row['j'] == s.Z[row['i']]:\n",
    "            pGamma = pGamma * calc_pGammaM(row['gamma'],pML)\n",
    "        else:\n",
    "            pGamma = pGamma*calc_pGammaU(row['gamma'],pUL)\n",
    "            \n",
    "    return pGamma\n",
    "\n",
    "def calc_pNM_Z(s, pM, pML, pUL):\n",
    "    #returns P(nM, Z | current params) ~ P(nM | pM) * P(Z | nM) * P(gamma | all param, Z) \n",
    "    pNM = binom.pmf(s.nM, n2, pM)  # p(nM | pM) ~ Binom(nM successes out of n2, w/ param pM)\n",
    "    pZ = scipy.math.factorial(n1-s.nM)/scipy.math.factorial(n1)\n",
    "    \n",
    "    # up to here this is defined for nM = 0 \n",
    "    pGamma = calc_pGamma(s, pM, pML, pUL) \n",
    "    \n",
    "    return pNM * pZ * pGamma"
   ]
  },
  {
   "cell_type": "code",
   "execution_count": 1313,
   "metadata": {},
   "outputs": [],
   "source": [
    "def gibbs(Gamma, iters, init, hypers, Z_init):\n",
    "    # some assertions needed here\n",
    "    assert len(init[\"pML\"]) == len(init[\"pUL\"]), 'dimensions of pML and pUL do not match'\n",
    "    \n",
    "    pM = init[\"pM\"]\n",
    "    pML = init[\"pML\"]\n",
    "    pUL = init[\"pUL\"]\n",
    "    nPar = 1 + len(pML) + len(pUL) \n",
    "    \n",
    "    L = len(pML)\n",
    "    numPair = Gamma.shape[0]\n",
    "    \n",
    "    trace = np.zeros((iters,nPar)) \n",
    "#     Z_trace = {}\n",
    "    Z_trace = np.zeros((iters,n2)) \n",
    "    \n",
    "    #initialize global state vars\n",
    "    state = make_state(Z_init, pM, pML, pUL)\n",
    " \n",
    "    for it in range(iters):\n",
    "   \n",
    "        # 1. Draw pM | Z ~ Beta(aM + nM(Z), bM + n2 - nM(Z)) \n",
    "        pM = sample_pM(state, hypers['aM'], hypers['bM']) \n",
    "        \n",
    "        # 2. Draw pML | Z, pUL | Z\n",
    "        gamma = Gamma['gamma']\n",
    "        pML = sample_pML(state, hypers['aML'], hypers['bML'])\n",
    "        pUL = sample_pUL(state, hypers['aUL'], hypers['bUL'])\n",
    "        \n",
    "#       3. Use Metropolis-Hastings algorithm to draw values of $Z$ and $n_{12}(Z)$ from\n",
    "#         their full conditional distributions. \n",
    "        \n",
    "        moveType = np.random.randint(2) + 1\n",
    "        move = 'move_' + str(moveType) + '(state, pM, pML, pUL)'\n",
    "        state = eval(move)\n",
    "        \n",
    "        print('Z is ' + str(state.Z))\n",
    "        \n",
    "        trace[it,:] = np.append(np.append(pM, pML),pUL) # update trace\n",
    "        Z_trace[it, :] = list(state.Z)\n",
    "        \n",
    "#         for x in state.matchedX2:\n",
    "#             if x not in Z_trace[x]:\n",
    "#                 Z_trace[x] = {}\n",
    "#                 Z_trace[x][Z[x]] = 0\n",
    "#             Z_trace[x][Z[x]] += 1\n",
    "            \n",
    "    trace = pd.DataFrame(trace)\n",
    "    Z_trace = pd.DataFrame(Z_trace)\n",
    "    \n",
    "    pML_names = ['pML_' + str(i) for i in range(1,L+1)]\n",
    "    pUL_names = ['pUL_' + str(i) for i in range(1,L+1)]\n",
    "    trace.columns= ['pM'] + pML_names + pUL_names\n",
    "    return trace, Z_trace"
   ]
  },
  {
   "cell_type": "code",
   "execution_count": 1316,
   "metadata": {
    "scrolled": true
   },
   "outputs": [
    {
     "name": "stdout",
     "output_type": "stream",
     "text": [
      "Z is [0, 1]\n",
      "Z is [0, 1]\n",
      "Z is [0, 1]\n",
      "Z is [0, 4]\n",
      "Z is [0, 1]\n",
      "Z is [0, 1]\n",
      "Z is [0, 4]\n",
      "Z is [0, 1]\n",
      "Z is [0, 1]\n",
      "Z is [0, 4]\n"
     ]
    }
   ],
   "source": [
    "n2 = 2\n",
    "n1 = 3\n",
    "trace, Z_trace = gibbs(Gamma, 10, init, hypers, [0, 1])"
   ]
  },
  {
   "cell_type": "markdown",
   "metadata": {},
   "source": [
    "### Likelihood functions"
   ]
  },
  {
   "cell_type": "markdown",
   "metadata": {},
   "source": [
    "The functions below are used to evaluate the (non-normalized) posterior conditional distribution of $(n_{M}, Z)$ given the current parameter values according to:\n",
    "\n",
    "$$ Pr(n_{M}, Z\\ |\\ \\Gamma, \\{p_{M\\ell}, p_{U\\ell}, \\ell = 1,\\dots,L \\}, p_M, \\alpha, \\beta) \\propto P(n_{M}\\ |\\ p_M) P(Z\\ |\\ n_{M}) P(\\Gamma\\ |\\ Z, \\{p_{M\\ell}, p_{U\\ell}, \\ell = 1,\\dots,L \\}) $$\n",
    "\n",
    "where $P(\\Gamma\\ |\\ Z, etc.)$ = that annoying thing. \n",
    "\n",
    "In principle we could enumerate all possible $Z$ but that would be huge.  So instead we draw new values of $n_{12}^*, I^*$ incrementally. \n",
    "\n"
   ]
  },
  {
   "cell_type": "markdown",
   "metadata": {},
   "source": [
    "### Move #1: $\\ n_m^* = n_m - 1$\n",
    "\n",
    "Pick a record $j$ at random from the set of matched records $\\{j: Z_j \\leq n_{1}\\}$ (with equal probability). "
   ]
  },
  {
   "cell_type": "code",
   "execution_count": 1287,
   "metadata": {},
   "outputs": [],
   "source": [
    "#gamma, n1, n2, pM, pML, pUL will be updated globally \n",
    "    \n",
    "def move_1(s, pM, pML, pUL):\n",
    "    \n",
    "    assert len(s.matchedX2) == s.nM, 'nM is not calibrated correctly'\n",
    "    assert len(s.matchedX2) == len(s.matchedX1), 'not bipartite matching'\n",
    "    \n",
    "    if len(s.matchedX2) == 0:\n",
    "#         print('no matches to remove, try another move')\n",
    "        return s\n",
    "    \n",
    "    old_state = make_state(s.Z, pM, pML, pUL) # save current Z\n",
    "    \n",
    "    #option 1 - randomly select i in matchedX2 and set to non-match \n",
    "\n",
    "    i = s.matchedX2[np.random.choice(s.nM)] # randomly select i in X2\n",
    "    old_match = s.Z[i]                       # save its old match\n",
    "    s.Z[i] = i + n1                          # set i's status to non-match in Z\n",
    "    new_state = make_state(s.Z,pM, pML, pUL)              # make proposal state\n",
    "    \n",
    "    # calculate jump probability\n",
    "    \n",
    "    if s.nM == n2: # THIS THROWS ERROR divide by zero problem -- CHECK THIS\n",
    "        const = 1\n",
    "    else:\n",
    "        const = s.nM/((n1-s.nM)*(n2-s.nM)) \n",
    "    \n",
    "    pMH = min(1, new_state.llh*const/old_state.llh)\n",
    "    \n",
    "#     print('prob of jump is ' + str(pMH))\n",
    "                                                  \n",
    "    # choose jump or not\n",
    "    accept = np.random.binomial(1, pMH)\n",
    "    \n",
    "    if accept == 1:  \n",
    "        return new_state\n",
    "        \n",
    "    else:            \n",
    "        return old_state"
   ]
  },
  {
   "cell_type": "markdown",
   "metadata": {},
   "source": [
    "### Move #2: $\\ n_m^* = n_m + 1$\n",
    "\n",
    "Pick a record $j$ at random from the set of unmatched records $\\{j: Z_j > n_{1}\\}$ (with equal probability). \n",
    "\n",
    "NOT SURE IF CORRECT YET"
   ]
  },
  {
   "cell_type": "code",
   "execution_count": 1288,
   "metadata": {},
   "outputs": [],
   "source": [
    "def move_2(s, pM, pML, pUL):\n",
    "    \n",
    "    assert len(s.matchedX2) == s.nM, 'nM is not calibrated correctly'\n",
    "    assert len(s.matchedX2) == len(s.matchedX1), 'not bipartite matching'\n",
    "    \n",
    "    old_state = make_state(s.Z, pM, pML, pUL) # save current Z, fix any bugs\n",
    "    \n",
    "    if (len(old_state.unmatchedX2) == 0) or (len(old_state.unmatchedX1) == 0):\n",
    "#         print('nothing left to match, try another move')\n",
    "        return old_state\n",
    "    \n",
    "    # option 1 - randomly select which record pair to add\n",
    "\n",
    "    addX2 = old_state.unmatchedX2[np.random.choice(len(old_state.unmatchedX2))] # randomly pick record to give match\n",
    "    addX1 = old_state.unmatchedX1[np.random.choice(len(old_state.unmatchedX1))] # randomly pick its match\n",
    "    \n",
    "    s.Z[addX2] = addX1                                         # assign new match \n",
    "    new_state = make_state(s.Z, pM, pML, pUL)                                # make proposal state\n",
    "\n",
    "    # calculate probability of jump\n",
    "    \n",
    "    if s.nM == 0:        # DIVIDE BY ZERO ERROR THINK ABOUT HOW TO FIX\n",
    "        const = 1\n",
    "        \n",
    "    # is necessary? else if (s.nM == n1) or (n2 == s.nM):\n",
    "    else:\n",
    "        const = (n1-s.nM)*(n2-s.nM)/s.nM\n",
    "        \n",
    "    pMH = min(1, new_state.llh*const/old_state.llh)\n",
    "#     print('prob of jump is ' + str(pMH))\n",
    "    \n",
    "    accept = np.random.binomial(1, pMH)\n",
    "    \n",
    "    if accept == 1:\n",
    "         return new_state  \n",
    "    else:\n",
    "        return old_state"
   ]
  },
  {
   "cell_type": "markdown",
   "metadata": {},
   "source": [
    "### Move #3: $\\ n_M$ changed, but $Z$ altered\n",
    "\n",
    "#### variation 1: Two matches switch pairings"
   ]
  },
  {
   "cell_type": "code",
   "execution_count": 1289,
   "metadata": {
    "collapsed": true
   },
   "outputs": [],
   "source": [
    "def move_3_v1():\n",
    "    #updates state only \n",
    "    \n",
    "    # in this type of move, the matched and unmatched don't change\n",
    "    \n",
    "    assert len(s.matchedX2) == s.nM, 'nM is not calibrated correctly'\n",
    "    assert len(s.matchedX2) == len(s.matchedX1), 'not bipartite matching'\n",
    "    \n",
    "    old_state = make_state(s.Z) # save current Z, fix any bugs\n",
    "    \n",
    "    #Randomly select 2 matched pairs with prob 2/nm(nm-1)\n",
    "    (i,k) = np.random.choice(nM, size=2, replace=False, p=None)\n",
    "    j = Z[i]\n",
    "    l = Z[k]\n",
    "    \n",
    "    # calculate jump probability pMH\n",
    "    pMH = calc_pMH_move3(i,j,k,l)\n",
    "    \n",
    "    print('prob of jump is ' + str(pMH))\n",
    "    accept = np.random.binomial(1, pMH)\n",
    "    \n",
    "    if accept == 1:\n",
    "        \n",
    "        # flip entries in Z\n",
    "        Z[i] = l\n",
    "        Z[k] = j\n",
    "        \n",
    "        #nM doesn't need changing\n",
    "        curr_llh = num # NEED TO UPDATE THIS \n",
    "        \n",
    "    else:\n",
    "        Z = Z_old\n",
    "    (state['curr_llh'], state['Z']) = llh, Z\n",
    "    return state"
   ]
  },
  {
   "cell_type": "markdown",
   "metadata": {},
   "source": [
    "consider making an output class that contains all state var for MCMC"
   ]
  },
  {
   "cell_type": "code",
   "execution_count": 1290,
   "metadata": {
    "collapsed": true
   },
   "outputs": [],
   "source": [
    "def calc_pMH_move3(i, j, k, l):\n",
    "    \n",
    "    gTemp = Gamma[(Gamma['i']==i)|(Gamma['i']==k)]\n",
    "    gTemp = gTemp[(Gamma['j']==j)|(Gamma['j']==l)]\n",
    "    \n",
    "    gamma_il = Gamma[(Gamma['i']==i) & (Gamma['j']==l)]['gamma']\n",
    "    gamma_kj = Gamma[(Gamma['i']==k) & (Gamma['j']==j)]['gamma']\n",
    "    gamma_ij = Gamma[(Gamma['i']==i) & (Gamma['j']==j)]['gamma']\n",
    "    gamma_kl = Gamma[(Gamma['i']==k) & (Gamma['j']==l)]['gamma']\n",
    "    \n",
    "    num = calc_pGammaM(gamma_il, pML)*calc_pGammaM(gamma_kj, pML) *\\\n",
    "            calc_pGammaU(gamma_ij, pUL)*calc_pGammaU(gamma_kl, pUL)\n",
    "    denom = calc_pGammaM(gamma_ij, pML)*calc_pGammaM(gamma_kl, pML) *\\\n",
    "            calc_pGammaU(gamma_il, pUL)*calc_pGammaU(gamma_kj, pUL)\n",
    "    return min(1, num/denom)"
   ]
  },
  {
   "cell_type": "code",
   "execution_count": null,
   "metadata": {
    "collapsed": true
   },
   "outputs": [],
   "source": []
  },
  {
   "cell_type": "code",
   "execution_count": null,
   "metadata": {
    "collapsed": true
   },
   "outputs": [],
   "source": []
  },
  {
   "cell_type": "code",
   "execution_count": null,
   "metadata": {
    "collapsed": true
   },
   "outputs": [],
   "source": []
  }
 ],
 "metadata": {
  "kernelspec": {
   "display_name": "Python 3",
   "language": "python",
   "name": "python3"
  },
  "language_info": {
   "codemirror_mode": {
    "name": "ipython",
    "version": 3
   },
   "file_extension": ".py",
   "mimetype": "text/x-python",
   "name": "python",
   "nbconvert_exporter": "python",
   "pygments_lexer": "ipython3",
   "version": "3.6.1"
  }
 },
 "nbformat": 4,
 "nbformat_minor": 2
}
