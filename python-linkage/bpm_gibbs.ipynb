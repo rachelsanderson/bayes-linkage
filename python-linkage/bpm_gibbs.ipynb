{
 "cells": [
  {
   "cell_type": "markdown",
   "metadata": {},
   "source": [
    "## bpm_gibbs.py\n",
    "\n",
    "\n",
    "The following is code for a Gibbs sampler for MCMC estimation of bipartite matching approach to record linkage."
   ]
  },
  {
   "cell_type": "markdown",
   "metadata": {},
   "source": [
    "## Bipartite matching approach to record linkage\n",
    "\n",
    "Suppose that files $X_1$ and $X_2$ contain $n_1$ and $n_2$ records, respectively, and\n",
    "without loss of generality that $n1 \\geq n_2$. Denote also the number of entities represented in\n",
    "both files as $n_{12}$, so that $n_2 \\geq n_{12} \\geq 0$.\n",
    "\n",
    "The set of records coming from the two files can be represented as a *bipartite matching* and the parameter of interest is a matching matrix $\\Delta$ of size $n_1\\times n_2$ whose $(i,j)$th entry is defined as \n",
    "\n",
    "$$ \\Delta_{ij} = \\begin{cases} 1, & \\text{ if records $i\\in X_1$ and $j\\in X_2$ refer to the same entity;} \\\\ 0, & \\text{otherwise} \\end{cases} $$\n",
    "\n",
    "Sadinle (2017) uses a more compact representation called a *matching labeling*, which is useful when $n_1\\times n_2$ is large.  Formally, the matching labeling is $Z = (Z_1, Z_2, \\dots, Z_{n2})$, such that\n",
    "\n",
    "$$ Z_j = \\begin{cases} i, & \\text{if records $i\\in X_1$ and $j\\in X_2$ refer to the same entity;} \\\\ n_1+j, & \\text{if records $j\\in X_2$ does not have a match in $X_1$ } \\end{cases} $$\n",
    "\n",
    "#### Advantages"
   ]
  },
  {
   "cell_type": "markdown",
   "metadata": {},
   "source": [
    "#### Prior for $m$ and $u$ probabilities\n",
    "\n",
    "It is expected that the probability of agreeing on an individual field of comparison is higher for matches than for nonmatches:\n",
    "\n",
    "$$Pr(\\gamma_{\\ell}(a,b) = 1 |\\ (a,b) \\in M) > Pr(\\gamma_{\\ell}(a,b) = 1 |\\ (a,b) \\in U) $$ \n",
    "\n",
    "Use a dirichlet instead of independent betas. \n",
    "\n",
    "#### Beta Prior for Bipartite Matchings $Z$\n",
    "\n",
    "This comes from Larsen (2005) and Sadinle (2017)/\n",
    "\n",
    "Just as in the mixture model approach, the prior probability that $j \\in X_2$ is:\n",
    "\n",
    "$$ I(Z_j \\leq n_1)  \\overset{i.i.d}{\\sim} \\text{Bernoulli}(p_M)$$\n",
    "\n",
    "where $p_M$ represents the proporiton of matches expected a priori as a fraction of the smallest file $X_2$.  Same as before, the hyperprior for $p_M$ is:\n",
    "\n",
    "$$ p_M \\sim \\text{Beta}(\\alpha_{M}, \\beta_{M})$$ \n",
    "\n",
    "The prior on $p_M$ implies $n_{12}(Z) = \\sum_{j=1}^{n_2} I(Z_j \\leq n_1)$, the number of matches according to matching labeling $Z$ is distributed as:\n",
    "\n",
    "$$n_{12}(Z) \\sim \\text{Beta-Binomial}(n_2, \\alpha_{M}, \\beta_{M}) $$ \n",
    "\n",
    "after marginalizing over $p_M$.\n",
    "\n",
    "Conditioning on $\\{I(Z_j \\leq n_1)\\}_{j=1}^{n_2}$, all possible bipartite matchings are taken to be equally likely, so $$Pr(Z\\ |\\ n_{12}) = \\left(\\frac{n_1!}{(n_1-n_{12})!}\\right)^{-1}$$\n",
    "\n",
    "These conditions imply the joint prior over $Z$:\n",
    "\n",
    "$$Pr(Z\\ |\\ \\alpha_M, \\beta_M) = \\frac{(n_1-n_{12}(Z))!}{n_1!}\\frac{\\text{Beta}(n_{12}(Z) + \\alpha_M,\\ n_2-n_{12}(Z) + \\beta_M)}{\\text{Beta}(\\alpha_M, \\beta_M)}$$\n",
    "\n",
    "\n"
   ]
  },
  {
   "cell_type": "markdown",
   "metadata": {},
   "source": [
    "\n",
    "Finally \n",
    "\n",
    "$$\\Gamma_{ij} | Z_j = i \\overset{i.i.d}{\\sim} M(m)$$\n",
    "\n",
    "$$\\Gamma_{ij}\\ |\\ Z_j \\neq i \\overset{i.i.d}{\\sim} U(u) $$\n",
    "\n",
    "$$ m_f \\sim Dirichlet(\\alpha_{\\ell(0)}, \\dots, \\alpha_{\\ell L}) $$"
   ]
  },
  {
   "cell_type": "markdown",
   "metadata": {
    "collapsed": true
   },
   "source": [
    "### Gibbs Sampler\n",
    "\n",
    "Initialize match/nonmatch configuration $Z$. Tricks to do this.\n",
    "\n",
    "1. Draw $p_M$ from $$ p_M\\ |\\ Z \\sim \\text{Beta}(\\alpha_M + n_{M}(Z),\\ \\beta_M + n_{2} - n_{M}(Z)) $$ Note this is same as before. \n",
    "\n",
    "2. Draw $p_{M\\ell}$ and $p_{U\\ell}$ from their conditional distributions (same as before).\n",
    "\n",
    "3. Use Metropolis-Hastings algorithm to draw values of $Z$ and $n_{12}(Z)$ from their full conditional distributions.  \n",
    "\n",
    "The only difference is step 3! $I$ is no longer a bunch of Bernoullis, and assignment of $I(a,b)$ will now affect $I(a',b')$ which is desirable. "
   ]
  },
  {
   "cell_type": "markdown",
   "metadata": {},
   "source": [
    "### Python setup"
   ]
  },
  {
   "cell_type": "code",
   "execution_count": 381,
   "metadata": {
    "collapsed": true
   },
   "outputs": [],
   "source": [
    "import numpy as np\n",
    "import scipy\n",
    "from scipy.stats import binom\n",
    "\n",
    "%matplotlib inline\n",
    "from seaborn import plt\n",
    "import pandas as pd \n",
    "import itertools\n",
    "\n",
    "plt.rcParams['figure.figsize'] = (10, 5)"
   ]
  },
  {
   "cell_type": "markdown",
   "metadata": {},
   "source": [
    "### 1. Updates for $p_M$\n"
   ]
  },
  {
   "cell_type": "code",
   "execution_count": 444,
   "metadata": {
    "collapsed": true
   },
   "outputs": [],
   "source": [
    "def sample_pM(s, aM, bM):\n",
    "    aNew = aM + s.nM\n",
    "    bNew = bM + n2 - s.nM\n",
    "    if ((aNew <= 0) or (bNew <=0)): print('neg. beta param')\n",
    "    return np.random.beta(aNew,bNew)"
   ]
  },
  {
   "cell_type": "markdown",
   "metadata": {},
   "source": [
    "### 2. Updates for $p_{M\\ell},\\ p_{U\\ell}$"
   ]
  },
  {
   "cell_type": "code",
   "execution_count": 446,
   "metadata": {
    "collapsed": true
   },
   "outputs": [],
   "source": [
    "def sample_pML(s, aML, bML):\n",
    "    assert n2 == len(s.Z), 'Z got messed up'\n",
    "    ones = np.array([1] * L)\n",
    "    aSums = np.zeros(L)\n",
    "    bSums = np.zeros(L)\n",
    "    for x2 in s.matchedX2:\n",
    "        matchInd = Gamma.index[(Gamma['i']==x2)&(Gamma['j']==s.Z[x2])].tolist()\n",
    "        for y in matchInd:\n",
    "            aSums += Gamma.loc[y]['gamma']\n",
    "            bSums += (ones-Gamma.loc[y]['gamma'])\n",
    "    aNew = aML + aSums\n",
    "    bNew = bML + bSums\n",
    "    if ((any(a <= 0 for a in aNew)) or (any(b <= 0 for b in bNew))): print('neg. beta param')\n",
    "    return np.random.beta(aNew, bNew)\n",
    "\n",
    "def sample_pUL(s, aUL, bUL):\n",
    "    assert n2 == len(s.Z), 'Z got messed up'\n",
    "    ones = np.array([1] * L)\n",
    "    aSums = np.zeros(L)\n",
    "    bSums = np.zeros(L)\n",
    "    for x2 in range(n2):\n",
    "        nonMatchInd = Gamma.index[(Gamma['i']==x2)&(Gamma['j']!=s.Z[x2])].tolist()\n",
    "        for y in nonMatchInd:\n",
    "            aSums += Gamma.loc[y]['gamma']\n",
    "            bSums += (ones-Gamma.loc[y]['gamma'])\n",
    "    aNew = aUL + aSums\n",
    "    bNew = bUL + bSums\n",
    "    if ((any(a <= 0 for a in aNew)) or (any(b <= 0 for b in bNew))): print('neg. beta param')\n",
    "    return np.random.beta(aNew, bNew)"
   ]
  },
  {
   "cell_type": "markdown",
   "metadata": {},
   "source": [
    "### 3. Updates for $Z, n_M$ \n",
    "\n",
    "These rely on many helper functions but below is a function that chooses the move type at random."
   ]
  },
  {
   "cell_type": "markdown",
   "metadata": {},
   "source": [
    "### Move #1: $\\ n_m^* = n_m - 1$\n",
    "\n",
    "Pick a record $j$ at random from the set of matched records $\\{j: Z_j \\leq n_{1}\\}$ (with equal probability). "
   ]
  },
  {
   "cell_type": "code",
   "execution_count": 447,
   "metadata": {
    "collapsed": true
   },
   "outputs": [],
   "source": [
    "#gamma, n1, n2, pM, pML, pUL will be updated globally \n",
    "    \n",
    "def move_1(s, pM, pML, pUL):\n",
    "    \n",
    "    assert len(s.matchedX2) == s.nM, 'nM is not calibrated correctly'\n",
    "    assert len(s.matchedX2) == len(s.matchedX1), 'not bipartite matching'\n",
    "    \n",
    "    old_state = make_state(s.Z, pM, pML, pUL) # save current Z\n",
    "    Z_new = old_state.Z\n",
    "    \n",
    "    if (len(old_state.matchedX2) == 0):  # no matches to remove, try another move\n",
    "        return old_state\n",
    "    \n",
    "    #option 1 - randomly select i in matchedX2 and set to non-match \n",
    "\n",
    "    i = old_state.matchedX2[np.random.choice(old_state.nM)] # randomly select i in X2\n",
    "    Z_new[i] = i + n1                          # set i's status to non-match in Z\n",
    "    new_state = make_state(Z_new,pM, pML, pUL)              # make proposal state\n",
    "    \n",
    "    # calculate jump probability pMH\n",
    "    const = np.log(old_state.nM/((n1-old_state.nM+1)*(n2-old_state.nM+1))) \n",
    "\n",
    "    pMH = min(1, np.exp(new_state.llh+const-old_state.llh))\n",
    "#     print('prob of jump is ' + str(pMH))\n",
    "    \n",
    "    accept = np.random.binomial(1, pMH)     # choose jump or not\n",
    "    \n",
    "    if accept == 1:  \n",
    "        return new_state\n",
    "    else:            \n",
    "        return old_state"
   ]
  },
  {
   "cell_type": "markdown",
   "metadata": {},
   "source": [
    "### Move #2: $\\ n_m^* = n_m + 1$\n",
    "\n",
    "Pick a record $j$ at random from the set of unmatched records $\\{j: Z_j > n_{1}\\}$ (with equal probability). \n",
    "\n",
    "NOT SURE IF CORRECT YET"
   ]
  },
  {
   "cell_type": "code",
   "execution_count": 448,
   "metadata": {
    "collapsed": true
   },
   "outputs": [],
   "source": [
    "def move_2(s, pM, pML, pUL):\n",
    "    \n",
    "    assert len(s.matchedX2) == s.nM, 'nM is not calibrated correctly'\n",
    "    assert len(s.matchedX2) == len(s.matchedX1), 'not bipartite matching'\n",
    "    \n",
    "    old_state = make_state(s.Z, pM, pML, pUL) # save current Z, fix any bugs\n",
    "    Z_new = old_state.Z\n",
    "    \n",
    "    if (len(old_state.unmatchedX2) == 0) or (len(old_state.unmatchedX1) == 0): # nothing to match\n",
    "        return old_state\n",
    "    \n",
    "    # option 1 - randomly select which record pair to add\n",
    "\n",
    "    addX2 = old_state.unmatchedX2[np.random.choice(len(old_state.unmatchedX2))] # randomly pick record to give match\n",
    "    addX1 = old_state.unmatchedX1[np.random.choice(len(old_state.unmatchedX1))] # randomly pick its match\n",
    "    \n",
    "    Z_new[addX2] = addX1                                         # assign new match \n",
    "    new_state = make_state(Z_new, pM, pML, pUL)                                # make proposal state\n",
    "\n",
    "    # calculate probability of jump\n",
    "    const = np.log((n1-old_state.nM)*(n2-old_state.nM)/(old_state.nM+1))\n",
    "        \n",
    "    pMH = min(1, np.exp(new_state.llh+const-old_state.llh))\n",
    "#     print('prob of jump is ' + str(pMH))\n",
    "    \n",
    "    accept = np.random.binomial(1, pMH)\n",
    "    \n",
    "    if accept == 1:\n",
    "         return new_state  \n",
    "    else:\n",
    "        return old_state"
   ]
  },
  {
   "cell_type": "markdown",
   "metadata": {},
   "source": [
    "### Move #3: $\\ n_M$ changed, but $Z$ altered\n",
    "\n",
    "#### Variation 1: Two matches switch pairings"
   ]
  },
  {
   "cell_type": "code",
   "execution_count": 449,
   "metadata": {
    "collapsed": true
   },
   "outputs": [],
   "source": [
    "def move_3_v1(s, pM, pML, pUL):\n",
    "    \n",
    "    assert len(s.matchedX2) == s.nM, 'nM is not calibrated correctly'\n",
    "    assert len(s.matchedX2) == len(s.matchedX1), 'not bipartite matching'\n",
    "    \n",
    "    old_state = make_state(s.Z, pM, pML, pUL) # save current Z, fix any bugs\n",
    "    \n",
    "    if old_state.nM < 2:\n",
    "        # nothing to switch\n",
    "        return old_state\n",
    "    \n",
    "    #Randomly select 2 matched pairs with prob 2/nm(nm-1)\n",
    "    (i,k) = np.random.choice(old_state.nM, size=2, replace=False, p=None)\n",
    "    j = old_state.Z[old_state.matchedX2[i]]\n",
    "    l = old_state.Z[old_state.matchedX2[k]]\n",
    "    \n",
    "    # calculate jump probability pMH\n",
    "    pMH = calc_pMH_move3(i,j,k,l, pML, pUL)\n",
    "    \n",
    "#     print('prob of jump is ' + str(pMH))\n",
    "    accept = np.random.binomial(1, pMH)\n",
    "    \n",
    "    if accept == 1:\n",
    "        # flip entries in Z\n",
    "        old_state.Z[old_state.matchedX2[i]] = l\n",
    "        old_state.Z[old_state.matchedX2[k]] = j\n",
    "        new_state = make_state(old_state.Z, pM, pML, pUL)\n",
    "        return new_state\n",
    "        \n",
    "    else:\n",
    "        return old_state\n",
    "    \n",
    "def calc_pMH_move3(i, j, k, l, pML, pUL):\n",
    "    gamma_il = Gamma[(Gamma['i']==int(i)) & (Gamma['j']==int(l))]['gamma'].values[0]\n",
    "    gamma_kj = Gamma[(Gamma['i']==int(k)) & (Gamma['j']==int(j))]['gamma'].values[0]\n",
    "    gamma_ij = Gamma[(Gamma['i']==i) & (Gamma['j']==j)]['gamma'].values[0]\n",
    "    gamma_kl = Gamma[(Gamma['i']==k) & (Gamma['j']==l)]['gamma'].values[0]\n",
    "    num = calc_pGammaM(gamma_il, pML)+calc_pGammaM(gamma_kj, pML) +\\\n",
    "            calc_pGammaU(gamma_ij, pUL)+calc_pGammaU(gamma_kl, pUL)\n",
    "    denom = calc_pGammaM(gamma_ij, pML)+calc_pGammaM(gamma_kl, pML) +\\\n",
    "            calc_pGammaU(gamma_il, pUL)+calc_pGammaU(gamma_kj, pUL)\n",
    "    return min(1, np.exp(num-denom))"
   ]
  },
  {
   "cell_type": "markdown",
   "metadata": {},
   "source": [
    "#### Variation 2:   Matched pair replaces one of its matching records with nonmatching record"
   ]
  },
  {
   "cell_type": "code",
   "execution_count": 450,
   "metadata": {},
   "outputs": [],
   "source": [
    "def move_3_v2(s, pM, pML, pUL):\n",
    "    \n",
    "    old_state = make_state(s.Z, pM, pML, pUL) \n",
    "    \n",
    "    assert len(old_state.matchedX2) == old_state.nM, 'nM is not calibrated correctly'\n",
    "    assert len(old_state.matchedX2) == len(old_state.matchedX1), 'not bipartite matching'\n",
    "    \n",
    "    if (len(old_state.unmatchedX1) == 0) and (len(old_state.unmatchedX2)==0):  # impossible to switch\n",
    "        return old_state \n",
    "    \n",
    "    if (old_state.nM == 0):\n",
    "        return old_state # no pairs to replace\n",
    "    \n",
    "    if (len(old_state.unmatchedX1) == 0):  # not possible to switch x2's partner\n",
    "            file == 1\n",
    "    \n",
    "    elif (len(old_state.unmatchedX2)==0):  # not possible to switch x1's partner\n",
    "            file ==2\n",
    "    \n",
    "    else:  # randomly select x1 or x2 to switch its partner\n",
    "        file = np.random.randint(2) + 1   \n",
    "    \n",
    "    # Randomly select matchedX2, unmatchedX1, and match them\n",
    "    \n",
    "    if file == 1:  # randomly select a file from x1 and replace its partner \n",
    "        j = old_state.matchedX1[np.random.randint(old_state.nM)]\n",
    "        l = old_state.unmatchedX2[np.random.randint(len(old_state.unmatchedX2))]    \n",
    "        i = [i for i, val in enumerate(old_state.Z) if val == j][0]\n",
    "        \n",
    "    elif file == 2: # randomly select a file from x2 and replace its partner\n",
    "        i = old_state.matchedX2[np.random.randint(old_state.nM)]\n",
    "        l = old_state.unmatchedX1[np.random.randint(len(old_state.unmatchedX1))]    \n",
    "        j = old_state.Z[i]\n",
    "\n",
    "    # calculate jump probability pMH\n",
    "    pMH = calc_pMH_move3_v2(i,j,l, pML, pUL)\n",
    "    \n",
    "#     print('prob of jump is ' + str(pMH))\n",
    "    accept = np.random.binomial(1, pMH)\n",
    "    \n",
    "    if accept == 1:\n",
    "        Z_new = old_state.Z\n",
    "        if file == 1: # fix X1's partner\n",
    "            Z_new[i] = n1 + i # unmatch old X2 partner\n",
    "            Z_new[l] = j      # add new partner\n",
    "        elif file == 2: # update X2's partner\n",
    "            Z_new[i] = l \n",
    "        \n",
    "        new_state = make_state(Z_new, pM, pML, pUL)\n",
    "        return new_state\n",
    "        \n",
    "    else:\n",
    "        return old_state\n",
    "    \n",
    "def calc_pMH_move3_v2(i,j,l, pML, pUL):\n",
    "    gamma_il = Gamma[(Gamma['i']==int(i)) & (Gamma['j']==int(l))]['gamma'].values[0]\n",
    "    gamma_ij = Gamma[(Gamma['i']==int(i)) & (Gamma['j']==int(j))]['gamma'].values[0]\n",
    "    num = calc_pGammaM(gamma_il, pML)+calc_pGammaU(gamma_ij, pUL) \n",
    "    denom = calc_pGammaM(gamma_ij, pML)+calc_pGammaU(gamma_il, pUL)\n",
    "    return min(1, np.exp(num-denom))"
   ]
  },
  {
   "cell_type": "markdown",
   "metadata": {},
   "source": [
    "#### Variation 3:   One matched pair is deleted and two unmatched records are paired\n",
    "\n",
    "NEED TO FIGURE OUT JUMP PROBABILITY"
   ]
  },
  {
   "cell_type": "code",
   "execution_count": 451,
   "metadata": {},
   "outputs": [],
   "source": [
    "def move_3_v3(s, pM, pML, pUL):\n",
    "    \n",
    "    old_state = make_state(s.Z, pM, pML, pUL) # save current Z\n",
    "    \n",
    "    assert len(old_state.matchedX2) == old_state.nM, 'nM is not calibrated correctly'\n",
    "    assert len(old_state.matchedX2) == len(old_state.matchedX1), 'not bipartite matching'\n",
    "    \n",
    "    if (len(old_state.matchedX2) == 0) or (len(old_state.unmatchedX2) == 0):  # no matches to remove, try another move\n",
    "        return old_state\n",
    "    \n",
    "    if (len(old_state.matchedX1) == 0) or (len(old_state.unmatchedX1) == 0):  # no matches to remove, try another move\n",
    "        return old_state\n",
    "    \n",
    "    #randomly select i in matchedX2 and set to non-match \n",
    "\n",
    "    i = old_state.matchedX2[np.random.choice(old_state.nM)] # randomly select i in X2\n",
    "    unmatchedX1 = old_state.unmatchedX1 + [old_state.Z[i]]  # free old match\n",
    "    newZ = old_state.Z\n",
    "    newZ[i] = i + n1                          # set i's status to non-match in Z\n",
    "    \n",
    "    # randomly select j in unmatched X2 and set to match \n",
    "    addX2 = old_state.unmatchedX2[np.random.choice(len(old_state.unmatchedX2))]\n",
    "    j = unmatchedX1[np.random.choice(len(unmatchedX1))]\n",
    "    newZ[addX2] = j                               \n",
    "    \n",
    "    new_state = make_state(newZ, pM, pML, pUL)              # make proposal state\n",
    "\n",
    "    # calculate jump probability\n",
    "    const = np.log(old_state.nM/((n1-old_state.nM)*(n2-old_state.nM)))\n",
    "    pMH = min(1, np.exp(new_state.llh + const - old_state.llh))\n",
    "    \n",
    "#     print('prob of jump is ' + str(pMH))\n",
    "                                                  \n",
    "    # choose jump or not\n",
    "    accept = np.random.binomial(1, pMH)\n",
    "    \n",
    "    if accept == 1:  \n",
    "        return new_state\n",
    "        \n",
    "    else:            \n",
    "        return old_state\n",
    "    "
   ]
  },
  {
   "cell_type": "markdown",
   "metadata": {},
   "source": [
    "### Maintaining $Z$ "
   ]
  },
  {
   "cell_type": "code",
   "execution_count": 452,
   "metadata": {
    "collapsed": true
   },
   "outputs": [],
   "source": [
    "class State(object):\n",
    "    matchedX2 = []\n",
    "    unmatchedX2 = []\n",
    "    matchedX1 = []\n",
    "    unmatchedX1 = []\n",
    "    Z = []\n",
    "    nM = 0\n",
    "    llh = 1\n",
    "    \n",
    "    def __init__(self,Z):\n",
    "        \n",
    "        self.matchedX2 = [i for i in range(n2) if Z[i] < n1]\n",
    "        self.matchedX1 = [i for i in Z if i < n1]\n",
    "        self.nM = len(self.matchedX2)\n",
    "        self.unmatchedX2 = np.delete([i for i in range(n2)], self.matchedX2)\n",
    "        self.unmatchedX1 = [i for i in range(n1) if i not in Z]\n",
    "        self.Z = Z\n",
    "\n",
    "        if len(Z) != len(np.unique(Z)): \n",
    "            print_state(self)\n",
    "            \n",
    "        assert len(Z) == n2, 'invalid bpm'\n",
    "        assert len(Z) == len(np.unique(Z)), 'invalid bpm'\n",
    "               \n",
    "def make_state(Z, pM, pML, pUL):\n",
    "    state = State(Z)\n",
    "    state.llh = calc_pNM_Z(state, pM, pML, pUL)\n",
    "    return state\n",
    "\n",
    "def print_state(s):\n",
    "    print('Z: ' + str(s.Z))\n",
    "    print('matchedX2: ' + str(s.matchedX2))\n",
    "    print('matchedX1: ' + str(s.matchedX1))\n",
    "    print('unmatchedX2: ' + str(s.unmatchedX2))\n",
    "    print('unmatchedX1: ' + str(s.unmatchedX1))\n",
    "    return"
   ]
  },
  {
   "cell_type": "code",
   "execution_count": 453,
   "metadata": {
    "collapsed": true
   },
   "outputs": [],
   "source": [
    "# Functions for evaluating log llh of Z\n",
    "# BDA3 says jump probabilities should be exp(diff in log density) \n",
    "\n",
    "def calc_pGammaM(gammaInd,pML):\n",
    "    # returns log(pGamma_ij | M)\n",
    "    assert len(gammaInd) == len(pML), 'dim do not match'\n",
    "    return np.sum([gammaInd[l]*np.log(pML[l]) + (1-gammaInd[l])*np.log(1-pML[l]) for l in range(len(pML))])\n",
    "\n",
    "def calc_pGammaU(gammaInd,pUL):\n",
    "    # returns log(pGamma_ij | U)\n",
    "    assert len(gammaInd) == len(pUL), 'dim do not match'\n",
    "    return np.prod([(pUL[l]**gammaInd[l])*(1-pUL[l])**(1-gammaInd[l]) for l in range(len(pML))])\n",
    "\n",
    "def calc_pGamma(s, pM, pML, pUL):\n",
    "    # calculates log P(gamma | Z, pML, pUL) for ENTIRE gamma (which has n1*n2 entries)\n",
    "    pGamma = 0\n",
    "    for index, row in Gamma.iterrows():\n",
    "        if row['j'] == s.Z[row['i']]:\n",
    "            pGamma += calc_pGammaM(row['gamma'],pML)\n",
    "        else:\n",
    "            pGamma += calc_pGammaU(row['gamma'],pUL)        \n",
    "    return pGamma\n",
    "\n",
    "def calc_pNM_Z(s, pM, pML, pUL):\n",
    "    #returns log P(nM, Z | current params) ~ log P(nM | pM) + log P(Z | nM) + log P(gamma | all param, Z) \n",
    "    pNM = np.log(binom.pmf(s.nM, n2, pM))  # p(nM | pM) ~ Binom(nM successes out of n2, w/ param pM)\n",
    "    pZ = np.log(scipy.math.factorial(n1-s.nM)/scipy.math.factorial(n1))\n",
    "    pGamma = calc_pGamma(s, pM, pML, pUL) \n",
    "    \n",
    "    return pNM + pZ + pGamma"
   ]
  },
  {
   "cell_type": "markdown",
   "metadata": {},
   "source": [
    "### Writing the Gibbs sampler"
   ]
  },
  {
   "cell_type": "code",
   "execution_count": 454,
   "metadata": {
    "collapsed": true
   },
   "outputs": [],
   "source": [
    "## specify initial values\n",
    "L=10\n",
    "init = {\"pM\": 0.5,\n",
    "        \"pML\": [0.5]*L,\n",
    "        \"pUL\": [0.5]*L}\n",
    "\n",
    "## specify hyper parameters \n",
    "hypers = {\"aM\": 1,\n",
    "          \"bM\": 1,\n",
    "          \"aML\": [1]*L,\n",
    "          \"bML\": [1]*L,\n",
    "          \"aUL\": [1]*L,\n",
    "          \"bUL\": [1]*L}\n",
    "\n",
    "def check_valid_prior(init):\n",
    "    assert (init[\"pM\"] < 1) and (init['pM'] > 0), 'pM must be between 0,1'\n",
    "    assert (0 not in init['pML']) and (1 not in init['pML']), 'elements of pML must be b/w 0,1'\n",
    "    assert (0 not in init['pUL']) and (1 not in init['pUL']), 'elements of pML must be b/w 0,1'\n",
    "    return "
   ]
  },
  {
   "cell_type": "code",
   "execution_count": 455,
   "metadata": {
    "collapsed": true
   },
   "outputs": [],
   "source": [
    "def gibbs(Gamma, iters, init, hypers, Z_init):\n",
    "    # some assertions needed here\n",
    "    assert len(init[\"pML\"]) == len(init[\"pUL\"]), 'dimensions of pML and pUL do not match'\n",
    "    \n",
    "    pM = init[\"pM\"]\n",
    "    pML = init[\"pML\"]\n",
    "    pUL = init[\"pUL\"]\n",
    "    nPar = 1 + len(pML) + len(pUL) \n",
    "    \n",
    "    L = len(pML)\n",
    "    numPair = Gamma.shape[0]\n",
    "    \n",
    "    trace = np.zeros((iters,nPar+1)) \n",
    "    Z_trace = np.zeros((iters,n2)) \n",
    "    \n",
    "    #initialize global state vars\n",
    "    state = make_state(Z_init, pM, pML, pUL)\n",
    " \n",
    "    for it in range(iters):\n",
    "   \n",
    "        # 1. Draw pM | Z ~ Beta(aM + nM(Z), bM + n2 - nM(Z)) \n",
    "        pM = sample_pM(state, hypers['aM'], hypers['bM']) \n",
    "        \n",
    "        # 2. Draw pML | Z, pUL | Z\n",
    "        gamma = Gamma['gamma']\n",
    "        pML = sample_pML(state, hypers['aML'], hypers['bML'])\n",
    "        pUL = sample_pUL(state, hypers['aUL'], hypers['bUL'])\n",
    "        \n",
    "        # 3. Draw values of Z (update state)\n",
    "        moveType = np.random.randint(3) + 1\n",
    "        if moveType == 3:\n",
    "            m3 = np.random.randint(3) + 1\n",
    "            moveType = '3_v' + str(m3)\n",
    "        move = 'move_' + str(moveType) + '(state, pM, pML, pUL)'\n",
    "#         print('move' + str(moveType))\n",
    "        state = eval(move)\n",
    "        \n",
    "        trace[it,:] = np.append(np.append(np.append(pM, pML),pUL),state.llh) # update trace\n",
    "        Z_trace[it, :] = state.Z\n",
    "            \n",
    "    trace = pd.DataFrame(trace)\n",
    "    Z_trace = pd.DataFrame(Z_trace)\n",
    "    Z_trace = Z_trace.astype(int)\n",
    "    \n",
    "    pML_names = ['pML_' + str(i) for i in range(1,L+1)]\n",
    "    pUL_names = ['pUL_' + str(i) for i in range(1,L+1)]\n",
    "    trace.columns= ['pM'] + pML_names + pUL_names + ['llh']\n",
    "    return trace, Z_trace"
   ]
  },
  {
   "cell_type": "markdown",
   "metadata": {},
   "source": [
    "### Likelihood functions"
   ]
  },
  {
   "cell_type": "markdown",
   "metadata": {},
   "source": [
    "The functions below are used to evaluate the (non-normalized) posterior conditional distribution of $(n_{M}, Z)$ given the current parameter values according to:\n",
    "\n",
    "$$ Pr(n_{M}, Z\\ |\\ \\Gamma, \\{p_{M\\ell}, p_{U\\ell}, \\ell = 1,\\dots,L \\}, p_M, \\alpha, \\beta) \\propto P(n_{M}\\ |\\ p_M) P(Z\\ |\\ n_{M}) P(\\Gamma\\ |\\ Z, \\{p_{M\\ell}, p_{U\\ell}, \\ell = 1,\\dots,L \\}) $$\n",
    "\n",
    "where $P(\\Gamma\\ |\\ Z, etc.)$ = that annoying thing. \n",
    "\n",
    "In principle we could enumerate all possible $Z$ but that would be huge.  So instead we draw new values of $n_{12}^*, I^*$ incrementally. \n",
    "\n"
   ]
  },
  {
   "cell_type": "markdown",
   "metadata": {},
   "source": [
    "### Synthetic Data\n",
    "#### Function for making synthetic data"
   ]
  },
  {
   "cell_type": "code",
   "execution_count": 456,
   "metadata": {
    "collapsed": true
   },
   "outputs": [],
   "source": [
    "from recordlinkage import datasets\n",
    "\n",
    "def make_Gamma(n1, n2, pM, pML, pUL):\n",
    "    nPair = n1 * n2\n",
    "    L = len(pML)\n",
    "    gamma=np.array(datasets.binary_vectors(nPair, int(pM*nPair), m=pML, u = pUL, random_state=113))\n",
    "    i = [[i]*n1 for i in range(n2)]\n",
    "    iVals = []\n",
    "    for x in i:\n",
    "        iVals += x\n",
    "    jVals = [j for j in range(n1)] * n2\n",
    "    Gamma = pd.DataFrame(\n",
    "        {'gamma': [list(gamma[i]) for i in range(len(gamma))],\n",
    "        'i': iVals, \n",
    "        'j': jVals})\n",
    "    return Gamma\n",
    "\n",
    "def make_Z_init(n1,n2):\n",
    "    Z = [n1 + i for i in range(n2)]\n",
    "    matchX1 = np.random.choice([i for i in range(n1)], size=int(.5*n2), replace=False, p=None)\n",
    "    matchX2 = np.random.choice([i for i in range(n2)], size=int(.5*n2), replace=False, p=None)\n",
    "    for i,x2 in enumerate(matchX2):\n",
    "        Z[x2] = matchX1[i]\n",
    "    return Z"
   ]
  },
  {
   "cell_type": "code",
   "execution_count": 457,
   "metadata": {
    "scrolled": true
   },
   "outputs": [],
   "source": [
    "n1 = n2 = 10\n",
    "pML = [.7] * 10\n",
    "pUL = [.2] * 10 \n",
    "pM = .5\n",
    "\n",
    "Gamma = make_Gamma(n1,n2,pM,pML,pUL)\n",
    "Z_init = make_Z_init(n1,n2)"
   ]
  },
  {
   "cell_type": "code",
   "execution_count": 458,
   "metadata": {},
   "outputs": [
    {
     "name": "stdout",
     "output_type": "stream",
     "text": [
      "37.25413703918457\n"
     ]
    }
   ],
   "source": [
    "import time\n",
    "start = time.time()\n",
    "trace, Z_trace = gibbs(Gamma, 500, init, hypers, Z_init)\n",
    "end = time.time()\n",
    "print(end-start)"
   ]
  },
  {
   "cell_type": "code",
   "execution_count": 459,
   "metadata": {},
   "outputs": [
    {
     "data": {
      "text/plain": [
       "<matplotlib.collections.PathCollection at 0x11de4d240>"
      ]
     },
     "execution_count": 459,
     "metadata": {},
     "output_type": "execute_result"
    },
    {
     "data": {
      "image/png": "[encoded data removed]",
      "text/plain": [
       "<matplotlib.figure.Figure at 0x1212ebb70>"
      ]
     },
     "metadata": {},
     "output_type": "display_data"
    }
   ],
   "source": [
    "data = {'nPair': [100, 100, 100, 400, 10000,10000], 'nits': [500, 1000, 2000, 1000, 10, 50], 'time': [37, 72, 142, 254, 65, 325]}\n",
    "df = pd.DataFrame(data)\n",
    "plt.scatter(df.nPair*df.nits, df.time)"
   ]
  },
  {
   "cell_type": "code",
   "execution_count": 460,
   "metadata": {},
   "outputs": [
    {
     "data": {
      "text/plain": [
       "[<matplotlib.lines.Line2D at 0x121cc4978>]"
      ]
     },
     "execution_count": 460,
     "metadata": {},
     "output_type": "execute_result"
    },
    {
     "data": {
      "image/png": "[encoded data removed]",
      "text/plain": [
       "<matplotlib.figure.Figure at 0x1212c1a58>"
      ]
     },
     "metadata": {},
     "output_type": "display_data"
    }
   ],
   "source": [
    "import matplotlib.pyplot as plt\n",
    "plt.plot(trace.llh)\n"
   ]
  },
  {
   "cell_type": "code",
   "execution_count": 462,
   "metadata": {},
   "outputs": [
    {
     "data": {
      "image/png": "[encoded data removed]",
      "text/plain": [
       "<matplotlib.figure.Figure at 0x1227d0978>"
      ]
     },
     "metadata": {},
     "output_type": "display_data"
    }
   ],
   "source": [
    "trace_burnt = trace\n",
    "hist_plot = trace_burnt[['pM','pML_1','pUL_1']].hist(bins=30,layout=(3,1))"
   ]
  }
 ],
 "metadata": {
  "kernelspec": {
   "display_name": "Python 3",
   "language": "python",
   "name": "python3"
  },
  "language_info": {
   "codemirror_mode": {
    "name": "ipython",
    "version": 3
   },
   "file_extension": ".py",
   "mimetype": "text/x-python",
   "name": "python",
   "nbconvert_exporter": "python",
   "pygments_lexer": "ipython3",
   "version": "3.6.1"
  }
 },
 "nbformat": 4,
 "nbformat_minor": 2
}
