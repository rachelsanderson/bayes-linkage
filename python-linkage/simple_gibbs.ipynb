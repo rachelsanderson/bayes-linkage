{
 "cells": [
  {
   "cell_type": "markdown",
   "metadata": {},
   "source": [
    "## simple_gibbs.py\n",
    "\n",
    "\n",
    "The following is code for a Gibbs sampler that performs MCMC estimation for the mixture model approach to record linkage, with conditional independence across comparison fields.  Details are provided below."
   ]
  },
  {
   "cell_type": "markdown",
   "metadata": {},
   "source": [
    "## Mixture model approach to record linkage\n",
    "\n",
    "The probability of a comparison vector $\\gamma$ is seen arising from a mixture distribution:\n",
    "\n",
    "$$ Pr(\\gamma) = Pr(\\gamma | M ) p_M + Pr(\\gamma | U) p_U $$ \n",
    "\n",
    "where $Pr(\\gamma | M)$ and $Pr(\\gamma | U)$ are the probabilities of observing the pattern $\\gamma$ among matches $M$ and non-matches $U$, and $p_M$ and $p_U = 1 - p_M$ are the proportion of matched and unmatched pairs in the population.  \n",
    "\n",
    "Assuming conditional independence across comparison fields  reduces the number of parameters within each mixture class from $2^K -1 $ parameters to $K$: \n",
    "\n",
    "$$ Pr(\\gamma | C) = \\prod_{k=1}^K Pr(\\gamma_k | C)^{\\gamma_k}(1-Pr(\\gamma_k| C)^{1-\\gamma_k} $$ \n",
    "for $C\\in\\{M,U\\}$. "
   ]
  },
  {
   "cell_type": "markdown",
   "metadata": {},
   "source": [
    "## Gibbs Sampling\n",
    "### Basic setup (within blocks, binary comparisons)\n",
    "\n",
    "Following Larsen (2012), I estimate the parameters of the mixture model approach to record linkage via Gibbs Sampling as follows:\n",
    "\n",
    "1. Using the current values of $(p_M^{(k)}, p_{M\\ell}^{(k)}, p_{U\\ell}^{(k)})$, draw the components of $I^{(k+1)}$ independently from $$ Pr(\\ I(a,b)^{(k+1)}=1\\ |\\ \\gamma(a,b)) = Pr(\\ M\\  |\\  \\gamma(a,b)) = \\frac{p_M^{(k)}Pr(\\ \\gamma(a,b)\\ |\\ M)}{Pr(\\gamma(a,b))} $$ where $$Pr(\\gamma(a,b)\\ |\\ M) = \\prod_{\\ell}  (p_{M\\ell}^{(k)})^{\\gamma_{\\ell}(a,b)}(1-p_{M\\ell}^{(k)})^{1-\\gamma_{\\ell}(a,b)}$$ and the denominator is calculated according to formula above. \n",
    "<p>\n",
    "\n",
    "2. Draw a value of $p_M^{(k+1)}$ from $$p_M^{(k+1)}\\ |\\ I^{(k+1)} \\sim Beta\\left(\\alpha_M + \\sum_{(a,b)} I(a,b)^{(k+1)}, \\ \\beta_M + \\sum_{(a,b)}(1-I(a,b)^{(k+1)})\\right) $$ and set $p_U^{(k+1)} = 1-p_M^{(k+1)}$\n",
    "<p>\n",
    "\n",
    "3. For $\\ell=1,\\dots, L$, draw values of $p_{M\\ell}$ independently from $$ p_{M\\ell}\\ | \\ M, I^{(k+1)} \\sim Beta\\left(\\alpha_{M\\ell} + \\sum_{(a,b)} I(a,b)^{(k+1)}\\gamma_{\\ell}(a,b),\\ \\beta_{M\\ell} + \\sum_{(a,b)} I(a,b)^{(k+1)}\\left(1-\\gamma_{\\ell}(a,b)\\right)\\right)$$\n",
    "<p>\n",
    "\n",
    "4. For $\\ell=1,\\dots, L$, draw values of $p_{U\\ell}$ independently from $$ p_{U\\ell}\\ | \\ U, I^{(k+1)} \\sim Beta\\left(\\alpha_{U\\ell} + \\sum_{(a,b)}(1- I(a,b)^{(k+1)})\\gamma_{\\ell}(a,b),\\ \\beta_{U\\ell} + \\sum_{(a,b)} (1-I(a,b)^{(k+1)})(1-\\gamma_{\\ell}(a,b))\\right)$$\n",
    "\n",
    "Once the algorithm has converged, one can calculate the posterior probability of a match as the proportion of times that a record pair $(a,b)$ has $I(a,b)  = 1$, i.e. $\\frac{1}{K}\\sum_k I(a,b)^{(k)}$.  Record pairs exceeding a cutoff are then designated matches, or a linear program is used to force one-to-one matching.   \n"
   ]
  },
  {
   "cell_type": "markdown",
   "metadata": {},
   "source": [
    "### Python Setup "
   ]
  },
  {
   "cell_type": "code",
   "execution_count": 203,
   "metadata": {
    "collapsed": true
   },
   "outputs": [],
   "source": [
    "import numpy as np\n",
    "from scipy.stats import bernoulli\n",
    "\n",
    "%matplotlib inline\n",
    "from seaborn import plt\n",
    "import pandas as pd \n",
    "import itertools\n",
    "\n",
    "plt.rcParams['figure.figsize'] = (10, 5)"
   ]
  },
  {
   "cell_type": "markdown",
   "metadata": {},
   "source": [
    "### 1. Updates for I(a,b)"
   ]
  },
  {
   "cell_type": "code",
   "execution_count": 204,
   "metadata": {
    "collapsed": true
   },
   "outputs": [],
   "source": [
    "def column(matrix, i):\n",
    "    return [row[i] for row in matrix]\n",
    "\n",
    "def calc_pGammaM(gammaInd,pML):\n",
    "    assert len(gammaInd) == len(pML), 'dim do not match'\n",
    "    return np.prod([(pML[l]**gammaInd[l])*(1-pML[l])**(1-gammaInd[l]) for l in range(len(pML))])\n",
    "\n",
    "def calc_pGammaU(gammaInd,pUL):\n",
    "    assert len(gammaInd) == len(pUL), 'dim do not match'\n",
    "    return np.prod([(pUL[l]**gamma[l])*(1-pUL[l])**(1-gamma[l]) for l in range(len(pML))])\n",
    "\n",
    "def sample_I(gamma, pM, pML, pUL):\n",
    "    nPairs = gamma.shape[0]  #number of comparisons\n",
    "    L = len(pML) # num categories\n",
    "    \n",
    "    prGamma_M = np.array([calc_pGammaM(pair, pML) for pair in gamma])\n",
    "    prGamma_U = np.array([calc_pGammaU(pair, pML) for pair in gamma])\n",
    "    \n",
    "    num = pM * prGamma_M\n",
    "    denom = num + (1-pM)*prGamma_U + 1\n",
    "    ps = num/denom \n",
    "\n",
    "    return np.array([np.random.binomial(1,p=ps[i]) for i in range(len(ps))])"
   ]
  },
  {
   "cell_type": "markdown",
   "metadata": {},
   "source": [
    "### 2. Updates for $p_M$"
   ]
  },
  {
   "cell_type": "code",
   "execution_count": 205,
   "metadata": {
    "collapsed": true
   },
   "outputs": [],
   "source": [
    "def sample_pM(I, aM, bM):\n",
    "    nM = np.sum(I)\n",
    "    aNew = aM + nM\n",
    "    bNew = bM + len(I) - nM\n",
    "    return np.random.beta(aNew,bNew)"
   ]
  },
  {
   "cell_type": "markdown",
   "metadata": {},
   "source": [
    "### 3-4. Updates for $p_{M\\ell}, p_{U\\ell}$"
   ]
  },
  {
   "cell_type": "code",
   "execution_count": 206,
   "metadata": {
    "collapsed": true
   },
   "outputs": [],
   "source": [
    "def sample_pML(gammaL, I, aML, bML):\n",
    "    N = len(gammaL)\n",
    "    assert N == len(I), 'dimensions don\\'t match'\n",
    "    ones = np.array([1] * N)\n",
    "    aML_new = aML + np.sum(I * gammaL)\n",
    "    bML_new = bML + np.sum(I * (ones-gammaL))\n",
    "    return np.random.beta(aML_new,bML_new)\n",
    "\n",
    "def sample_pUL(gammaL, I, aUL, bUL):\n",
    "    N = len(gammaL)\n",
    "    assert N == len(I), 'dimensions don\\'t match'\n",
    "    ones = np.array([1] * N)\n",
    "    aUL_new = aUL + np.sum((ones-I) * gammaL)\n",
    "    bUL_new = bUL + np.sum((ones-I) * (ones-gammaL))\n",
    "    return np.random.beta(aUL_new,bUL_new)"
   ]
  },
  {
   "cell_type": "markdown",
   "metadata": {},
   "source": [
    "### Some synthetic data\n",
    "\n",
    "The [Record Linkage](https://recordlinkage.readthedocs.io/en/latest/about.html) package in Python provides functions for pre-processing data.  It also comes pre-loaded with datasets from [Febrl](https://sourceforge.net/projects/febrl/) which I use to test my Gibbs sampler.\n",
    "\n",
    "The code below generates random binary comparison vectors given m, u, probabilities see documentation\n",
    "\n",
    "References:\n",
    "Christen, P. (2008). Febrl - A Freely Available Record Linkage System with a Graphical User Interface."
   ]
  },
  {
   "cell_type": "code",
   "execution_count": 207,
   "metadata": {
    "collapsed": true
   },
   "outputs": [],
   "source": [
    "from recordlinkage import datasets\n",
    "\n",
    "N = 4\n",
    "pML = [1, 1]\n",
    "pUL = [.1, .1]\n",
    "pM = .2\n",
    "L = len(pML)\n",
    "\n",
    "gamma = np.array([0]*8 + [1,1])\n",
    "gamma = gamma.reshape(5,2)\n",
    "# gamma = np.array(datasets.binary_vectors(N,int(pM*N), m=pML, u = pUL, random_state=113))"
   ]
  },
  {
   "cell_type": "markdown",
   "metadata": {},
   "source": [
    "### Writing our Gibbs sampler"
   ]
  },
  {
   "cell_type": "code",
   "execution_count": 208,
   "metadata": {
    "collapsed": true
   },
   "outputs": [],
   "source": [
    "## specify initial values\n",
    "init = {\"pM\": 0.5,\n",
    "        \"pML\": [0.5]*L,\n",
    "        \"pUL\": [0.5]*L}\n",
    "\n",
    "## specify hyper parameters \n",
    "hypers = {\"aM\": 1,\n",
    "          \"bM\": 1,\n",
    "          \"aML\": [1]*L,\n",
    "          \"bML\": [1]*L,\n",
    "          \"aUL\": [1]*L,\n",
    "          \"bUL\": [1]*L}"
   ]
  },
  {
   "cell_type": "code",
   "execution_count": 209,
   "metadata": {},
   "outputs": [
    {
     "data": {
      "text/plain": [
       "array([[0, 0],\n",
       "       [0, 0],\n",
       "       [0, 0],\n",
       "       [0, 0],\n",
       "       [1, 1]])"
      ]
     },
     "execution_count": 209,
     "metadata": {},
     "output_type": "execute_result"
    }
   ],
   "source": [
    "gamma"
   ]
  },
  {
   "cell_type": "code",
   "execution_count": 210,
   "metadata": {
    "collapsed": true
   },
   "outputs": [],
   "source": [
    "def gibbs(gamma, iters, init, hypers):\n",
    "\n",
    "    assert gamma.shape[1] == len(init[\"pML\"]), 'not enough params' # checks sufficiently parameterized\n",
    "    assert len(init[\"pML\"]) == len(init[\"pUL\"]), 'dimensions of pML and pUL do not match'\n",
    "    \n",
    "    pM = init[\"pM\"]\n",
    "    pML = init[\"pML\"]\n",
    "    pUL = init[\"pUL\"]\n",
    "    nPar = 1 + len(pML) + len(pUL) \n",
    "    \n",
    "    L = len(pML)\n",
    "    numPair = gamma.shape[0]\n",
    "    \n",
    "    trace = np.zeros((iters,nPar)) # trace to store values of pM, pML, pUL\n",
    "    I_sum = np.zeros(numPair)      # storage for matches \n",
    "    \n",
    "    for it in range(iters):\n",
    "        I = sample_I(gamma, pM, pML, pUL)\n",
    "        \n",
    "        pM = sample_pM(I, hypers['aM'], hypers['bM'])\n",
    "        # Need some way to correct when it goes on a spree\n",
    "#         if pM > 0.99:\n",
    "#             pM = 0.05\n",
    "        # delete above, but need something like it     \n",
    "        pML = [sample_pML(column(gamma,l), I, hypers['aML'][l], hypers['bML'][l]) for l in range(L)]\n",
    "        pUL = [sample_pUL(column(gamma,l), I, hypers['aUL'][l], hypers['bUL'][l]) for l in range(L)]\n",
    "        \n",
    "        # update mcmc trace\n",
    "        I_sum += I\n",
    "        trace[it,:] = np.append(np.append(pM, pML),pUL)\n",
    "    \n",
    "    trace = pd.DataFrame(trace)\n",
    "    \n",
    "    pML_names = ['pML_' + str(i) for i in range(1,L+1)]\n",
    "    pUL_names = ['pUL_' + str(i) for i in range(1,L+1)]\n",
    "   \n",
    "    trace.columns= ['pM'] + pML_names + pUL_names\n",
    "        \n",
    "    return trace, I_sum\n",
    "        "
   ]
  },
  {
   "cell_type": "code",
   "execution_count": 211,
   "metadata": {
    "collapsed": true,
    "scrolled": true
   },
   "outputs": [],
   "source": [
    "niters = 10000\n",
    "trace, i = gibbs(gamma,niters, init, hypers)"
   ]
  },
  {
   "cell_type": "code",
   "execution_count": 212,
   "metadata": {},
   "outputs": [
    {
     "data": {
      "image/png": "[encoded data removed]",
      "text/plain": [
       "<matplotlib.figure.Figure at 0x127f11be0>"
      ]
     },
     "metadata": {},
     "output_type": "display_data"
    }
   ],
   "source": [
    "trace_burnt = trace[5000:9999]\n",
    "hist_plot = trace_burnt.hist(bins=30,layout=(2,4))"
   ]
  },
  {
   "cell_type": "markdown",
   "metadata": {},
   "source": [
    "### Comments\n",
    "\n",
    "#### Sampling $I$\n",
    "\n",
    "This method does not perform well, even when I impose strong priors and set initial parameter values equal to the truth.  \n",
    "\n",
    "First, the posterior for $p_M$ is heavily skewed toward 1 when I sample $I$ using the formula in Step 1.  This corresponds with high posterior probabilities of $I(a,b)$, which may imply large false positive matching rates if threshold is set too low. \n",
    "\n",
    "This issue reflects the fact that updates to $(p_M, p_{M\\ell}, p_{U\\ell})$ depend on assignments of $I(a,b)$. The $sample_I$ function is too quick to assign matches.  This may result from the fact that I use two clusters, and that once $p_{U\\ell}$ probabilities get set low, the chain cannot recover.  I test this issue by adding 1 to the denominator of the Bernoulli parameter in Step 1:\n",
    "\n",
    "$$p \\equiv Pr(\\ I(a,b)^{(k+1)}=1\\ |\\ \\gamma(a,b)) = Pr(\\ M\\  |\\  \\gamma(a,b)) = \\frac{p_M^{(k)}Pr(\\ \\gamma(a,b)\\ |\\ M)}{Pr(\\gamma(a,b)) + 1} $$ \n",
    "\n",
    "This change prevents $p_M$ from converging to 1 <span style=\"color:blue\">(but I need to write more tests) </span>\n",
    "\n",
    "#### Other bugs\n",
    "\n",
    "My results are extremely sensitive to a choice of prior! Choosing the prior will be important to explore. \n",
    "\n",
    "Could I sample from the joint distribution of $(p_M, p_{M\\ell}, p_{U\\ell})\\ | I$?  Could I model as Dirichlet?\n",
    "\n",
    "Ultimately it is not worth the time and energy trying to fix this broken method so now I focus on the bipartite matching, which will fix many of these issues."
   ]
  },
  {
   "cell_type": "code",
   "execution_count": 214,
   "metadata": {},
   "outputs": [
    {
     "name": "stdout",
     "output_type": "stream",
     "text": [
      "pM       0.130302\n",
      "pML_1    0.479917\n",
      "pML_2    0.468720\n",
      "pUL_1    0.262713\n",
      "pUL_2    0.263167\n",
      "dtype: float64\n",
      "pM: 0.2\n",
      "pML: [1, 1]\n",
      "pUL: [0.1, 0.1]\n",
      "\n",
      "pM       0.144656\n",
      "pML_1    0.287509\n",
      "pML_2    0.288239\n",
      "pUL_1    0.166314\n",
      "pUL_2    0.165631\n",
      "dtype: float64\n"
     ]
    }
   ],
   "source": [
    "print(trace_burnt.median())\n",
    "print('pM: ' + str(pM))\n",
    "print('pML: ' + str(pML))\n",
    "print('pUL: ' + str(pUL))\n",
    "print('')\n",
    "print(trace_burnt.std())\n"
   ]
  },
  {
   "cell_type": "code",
   "execution_count": 215,
   "metadata": {},
   "outputs": [
    {
     "data": {
      "text/plain": [
       "array([0.0405, 0.0389, 0.0384, 0.0355, 0.0345])"
      ]
     },
     "execution_count": 215,
     "metadata": {},
     "output_type": "execute_result"
    }
   ],
   "source": [
    "i/niters"
   ]
  },
  {
   "cell_type": "code",
   "execution_count": null,
   "metadata": {
    "collapsed": true
   },
   "outputs": [],
   "source": []
  }
 ],
 "metadata": {
  "kernelspec": {
   "display_name": "Python 3",
   "language": "python",
   "name": "python3"
  },
  "language_info": {
   "codemirror_mode": {
    "name": "ipython",
    "version": 3
   },
   "file_extension": ".py",
   "mimetype": "text/x-python",
   "name": "python",
   "nbconvert_exporter": "python",
   "pygments_lexer": "ipython3",
   "version": "3.6.1"
  }
 },
 "nbformat": 4,
 "nbformat_minor": 2
}
