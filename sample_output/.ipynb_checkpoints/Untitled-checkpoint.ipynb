{
 "cells": [
  {
   "cell_type": "code",
   "execution_count": 1,
   "metadata": {
    "collapsed": true
   },
   "outputs": [],
   "source": [
    "from recordlinkage import datasets\n",
    "import numpy as np\n",
    "import pandas as pd\n",
    "\n",
    "def make_fake_data(n1, n2, pM, pML, pUL, randState = 113):\n",
    "    nPair = n1 * n2\n",
    "    L = len(pML)\n",
    "    gamma, links =np.array(datasets.binary_vectors(nPair, int(pM*nPair), \\\n",
    "                m=pML, u = pUL, random_state=randState, return_links = True))\n",
    "\n",
    "    gamma['match'] = False\n",
    "    gamma.loc[links,'match']= True\n",
    "    matches = gamma['match']\n",
    "    # make pair identifiers\n",
    "    i = [[i]*n1 for i in range(n2)]\n",
    "    iVals = []\n",
    "    for x in i:\n",
    "        iVals += x\n",
    "    jVals = [j for j in range(n1)] * n2\n",
    "\n",
    "    Gamma = pd.DataFrame(\n",
    "        {'gamma': list(gamma[['c_1','c_2','c_3']].values),\n",
    "        'i': iVals,\n",
    "        'j': jVals,\n",
    "        'match': matches})\n",
    "    Gamma = Gamma.reset_index(drop=True)\n",
    "    ext = 'nMatch' + str(int(pM*nPair)) + '_L' + str(L)\n",
    "    Gamma.to_csv('Gamma_'+ext+'.csv', mode='w')\n",
    "    return Gamma\n",
    "\n",
    "if __name__ == \"__main__\":\n",
    "    n1 = n2 = 10\n",
    "    pML = [.8] * 4\n",
    "    pUL = [.2] * 4\n",
    "    pM = .2\n",
    "    make_fake_data(n1, n2, pM, pML, pUL)\n",
    "\n"
   ]
  },
  {
   "cell_type": "code",
   "execution_count": 4,
   "metadata": {},
   "outputs": [
    {
     "ename": "TypeError",
     "evalue": "object of type 'float' has no len()",
     "output_type": "error",
     "traceback": [
      "\u001b[0;31m---------------------------------------------------------------------------\u001b[0m",
      "\u001b[0;31mTypeError\u001b[0m                                 Traceback (most recent call last)",
      "\u001b[0;32m<ipython-input-4-e018181d5a0f>\u001b[0m in \u001b[0;36m<module>\u001b[0;34m()\u001b[0m\n\u001b[1;32m      5\u001b[0m \u001b[0mrandState\u001b[0m \u001b[0;34m=\u001b[0m \u001b[0;36m113\u001b[0m\u001b[0;34m\u001b[0m\u001b[0m\n\u001b[1;32m      6\u001b[0m \u001b[0mnPair\u001b[0m \u001b[0;34m=\u001b[0m \u001b[0mn1\u001b[0m\u001b[0;34m*\u001b[0m\u001b[0mn2\u001b[0m\u001b[0;34m\u001b[0m\u001b[0m\n\u001b[0;32m----> 7\u001b[0;31m \u001b[0mgamma\u001b[0m\u001b[0;34m,\u001b[0m \u001b[0mlinks\u001b[0m\u001b[0;34m=\u001b[0m\u001b[0mnp\u001b[0m\u001b[0;34m.\u001b[0m\u001b[0marray\u001b[0m\u001b[0;34m(\u001b[0m\u001b[0mdatasets\u001b[0m\u001b[0;34m.\u001b[0m\u001b[0mbinary_vectors\u001b[0m\u001b[0;34m(\u001b[0m\u001b[0mnPair\u001b[0m\u001b[0;34m,\u001b[0m \u001b[0mint\u001b[0m\u001b[0;34m(\u001b[0m\u001b[0mpM\u001b[0m\u001b[0;34m*\u001b[0m\u001b[0mnPair\u001b[0m\u001b[0;34m)\u001b[0m\u001b[0;34m,\u001b[0m \u001b[0mm\u001b[0m\u001b[0;34m=\u001b[0m\u001b[0mpML\u001b[0m\u001b[0;34m,\u001b[0m \u001b[0mu\u001b[0m \u001b[0;34m=\u001b[0m \u001b[0mpUL\u001b[0m\u001b[0;34m,\u001b[0m \u001b[0mrandom_state\u001b[0m\u001b[0;34m=\u001b[0m\u001b[0mrandState\u001b[0m\u001b[0;34m,\u001b[0m \u001b[0mreturn_links\u001b[0m \u001b[0;34m=\u001b[0m \u001b[0;32mTrue\u001b[0m\u001b[0;34m)\u001b[0m\u001b[0;34m)\u001b[0m\u001b[0;34m\u001b[0m\u001b[0m\n\u001b[0m\u001b[1;32m      8\u001b[0m \u001b[0;34m\u001b[0m\u001b[0m\n",
      "\u001b[0;32m/Users/rachelanderson/.local/lib/python3.6/site-packages/recordlinkage/datasets/generate.py\u001b[0m in \u001b[0;36mbinary_vectors\u001b[0;34m(n, n_match, m, u, random_state, return_links, dtype)\u001b[0m\n\u001b[1;32m     40\u001b[0m     \"\"\"\n\u001b[1;32m     41\u001b[0m \u001b[0;34m\u001b[0m\u001b[0m\n\u001b[0;32m---> 42\u001b[0;31m     \u001b[0;32mif\u001b[0m \u001b[0mlen\u001b[0m\u001b[0;34m(\u001b[0m\u001b[0mm\u001b[0m\u001b[0;34m)\u001b[0m \u001b[0;34m!=\u001b[0m \u001b[0mlen\u001b[0m\u001b[0;34m(\u001b[0m\u001b[0mu\u001b[0m\u001b[0;34m)\u001b[0m\u001b[0;34m:\u001b[0m\u001b[0;34m\u001b[0m\u001b[0m\n\u001b[0m\u001b[1;32m     43\u001b[0m         \u001b[0;32mraise\u001b[0m \u001b[0mValueError\u001b[0m\u001b[0;34m(\u001b[0m\u001b[0;34m\"the length of 'm' is not equal the length of 'u'\"\u001b[0m\u001b[0;34m)\u001b[0m\u001b[0;34m\u001b[0m\u001b[0m\n\u001b[1;32m     44\u001b[0m \u001b[0;34m\u001b[0m\u001b[0m\n",
      "\u001b[0;31mTypeError\u001b[0m: object of type 'float' has no len()"
     ]
    }
   ],
   "source": [
    "n1 = n2 = 3\n",
    "pM = .5\n",
    "pML = .5\n",
    "pUl = .1\n",
    "randState = 113\n",
    "nPair = n1*n2\n",
    "gamma, links=np.array(datasets.binary_vectors(nPair, int(pM*nPair), m=pML, u = pUL, random_state=randState, return_links = True))\n",
    "\n"
   ]
  },
  {
   "cell_type": "code",
   "execution_count": null,
   "metadata": {
    "collapsed": true
   },
   "outputs": [],
   "source": []
  }
 ],
 "metadata": {
  "kernelspec": {
   "display_name": "Python 3",
   "language": "python",
   "name": "python3"
  },
  "language_info": {
   "codemirror_mode": {
    "name": "ipython",
    "version": 3
   },
   "file_extension": ".py",
   "mimetype": "text/x-python",
   "name": "python",
   "nbconvert_exporter": "python",
   "pygments_lexer": "ipython3",
   "version": "3.6.1"
  }
 },
 "nbformat": 4,
 "nbformat_minor": 2
}
