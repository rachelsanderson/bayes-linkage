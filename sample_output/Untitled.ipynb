{
 "cells": [
  {
   "cell_type": "code",
   "execution_count": 1,
   "metadata": {
    "collapsed": true
   },
   "outputs": [],
   "source": [
    "from recordlinkage import datasets\n",
    "import numpy as np\n",
    "import pandas as pd\n",
    "\n",
    "def make_fake_data(n1, n2, pM, pML, pUL, randState = 113):\n",
    "    nPair = n1 * n2\n",
    "    L = len(pML)\n",
    "    gamma, links =np.array(datasets.binary_vectors(nPair, int(pM*nPair), \\\n",
    "                m=pML, u = pUL, random_state=randState, return_links = True))\n",
    "\n",
    "    gamma['match'] = False\n",
    "    gamma.loc[links,'match']= True\n",
    "    matches = gamma['match']\n",
    "    # make pair identifiers\n",
    "    i = [[i]*n1 for i in range(n2)]\n",
    "    iVals = []\n",
    "    for x in i:\n",
    "        iVals += x\n",
    "    jVals = [j for j in range(n1)] * n2\n",
    "\n",
    "    Gamma = pd.DataFrame(\n",
    "        {'gamma': list(gamma[['c_1','c_2','c_3']].values),\n",
    "        'i': iVals,\n",
    "        'j': jVals,\n",
    "        'match': matches})\n",
    "    Gamma = Gamma.reset_index(drop=True)\n",
    "    ext = 'nMatch' + str(int(pM*nPair)) + '_L' + str(L)\n",
    "    Gamma.to_csv('Gamma_'+ext+'.csv', mode='w')\n",
    "    return Gamma\n",
    "\n",
    "if __name__ == \"__main__\":\n",
    "    n1 = n2 = 10\n",
    "    pML = [.8] * 4\n",
    "    pUL = [.2] * 4\n",
    "    pM = .2\n",
    "    make_fake_data(n1, n2, pM, pML, pUL)\n",
    "\n"
   ]
  },
  {
   "cell_type": "code",
   "execution_count": 18,
   "metadata": {},
   "outputs": [],
   "source": [
    "n1 = n2 = 2\n",
    "pM = .9\n",
    "pML = [0.9]\n",
    "pUL = [.1]\n",
    "randState = 113\n",
    "nPair = n1*n2\n",
    "gamma, links=np.array(datasets.binary_vectors(nPair, int(pM*nPair), m=pML, u = pUL, random_state=randState, return_links = True))\n",
    "\n"
   ]
  },
  {
   "cell_type": "code",
   "execution_count": 19,
   "metadata": {},
   "outputs": [
    {
     "data": {
      "text/html": [
       "<div>\n",
       "<style>\n",
       "    .dataframe thead tr:only-child th {\n",
       "        text-align: right;\n",
       "    }\n",
       "\n",
       "    .dataframe thead th {\n",
       "        text-align: left;\n",
       "    }\n",
       "\n",
       "    .dataframe tbody tr th {\n",
       "        vertical-align: top;\n",
       "    }\n",
       "</style>\n",
       "<table border=\"1\" class=\"dataframe\">\n",
       "  <thead>\n",
       "    <tr style=\"text-align: right;\">\n",
       "      <th></th>\n",
       "      <th></th>\n",
       "      <th>c_1</th>\n",
       "    </tr>\n",
       "  </thead>\n",
       "  <tbody>\n",
       "    <tr>\n",
       "      <th>1005</th>\n",
       "      <th>1003</th>\n",
       "      <td>0</td>\n",
       "    </tr>\n",
       "    <tr>\n",
       "      <th>1008</th>\n",
       "      <th>1003</th>\n",
       "      <td>1</td>\n",
       "    </tr>\n",
       "    <tr>\n",
       "      <th>1006</th>\n",
       "      <th>1001</th>\n",
       "      <td>1</td>\n",
       "    </tr>\n",
       "    <tr>\n",
       "      <th>1002</th>\n",
       "      <th>1001</th>\n",
       "      <td>0</td>\n",
       "    </tr>\n",
       "  </tbody>\n",
       "</table>\n",
       "</div>"
      ],
      "text/plain": [
       "           c_1\n",
       "1005 1003    0\n",
       "1008 1003    1\n",
       "1006 1001    1\n",
       "1002 1001    0"
      ]
     },
     "execution_count": 19,
     "metadata": {},
     "output_type": "execute_result"
    }
   ],
   "source": [
    "gamma"
   ]
  },
  {
   "cell_type": "code",
   "execution_count": 20,
   "metadata": {},
   "outputs": [
    {
     "data": {
      "text/html": [
       "<div>\n",
       "<style>\n",
       "    .dataframe thead tr:only-child th {\n",
       "        text-align: right;\n",
       "    }\n",
       "\n",
       "    .dataframe thead th {\n",
       "        text-align: left;\n",
       "    }\n",
       "\n",
       "    .dataframe tbody tr th {\n",
       "        vertical-align: top;\n",
       "    }\n",
       "</style>\n",
       "<table border=\"1\" class=\"dataframe\">\n",
       "  <thead>\n",
       "    <tr style=\"text-align: right;\">\n",
       "      <th></th>\n",
       "      <th></th>\n",
       "      <th>c_1</th>\n",
       "    </tr>\n",
       "  </thead>\n",
       "  <tbody>\n",
       "    <tr>\n",
       "      <th>1006</th>\n",
       "      <th>1001</th>\n",
       "      <td>1</td>\n",
       "    </tr>\n",
       "    <tr>\n",
       "      <th>1002</th>\n",
       "      <th>1001</th>\n",
       "      <td>0</td>\n",
       "    </tr>\n",
       "    <tr>\n",
       "      <th>1008</th>\n",
       "      <th>1003</th>\n",
       "      <td>1</td>\n",
       "    </tr>\n",
       "  </tbody>\n",
       "</table>\n",
       "</div>"
      ],
      "text/plain": [
       "           c_1\n",
       "1006 1001    1\n",
       "1002 1001    0\n",
       "1008 1003    1"
      ]
     },
     "execution_count": 20,
     "metadata": {},
     "output_type": "execute_result"
    }
   ],
   "source": [
    "gamma.loc[links]"
   ]
  },
  {
   "cell_type": "code",
   "execution_count": null,
   "metadata": {
    "collapsed": true
   },
   "outputs": [],
   "source": []
  }
 ],
 "metadata": {
  "kernelspec": {
   "display_name": "Python 3",
   "language": "python",
   "name": "python3"
  },
  "language_info": {
   "codemirror_mode": {
    "name": "ipython",
    "version": 3
   },
   "file_extension": ".py",
   "mimetype": "text/x-python",
   "name": "python",
   "nbconvert_exporter": "python",
   "pygments_lexer": "ipython3",
   "version": "3.6.1"
  }
 },
 "nbformat": 4,
 "nbformat_minor": 2
}
